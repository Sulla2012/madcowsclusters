{
 "cells": [
  {
   "cell_type": "code",
   "execution_count": 53,
   "metadata": {},
   "outputs": [],
   "source": [
    "import numpy as np\n",
    "from scipy import stats\n",
    "import pickle as pk\n",
    "import matplotlib.pyplot as plt\n"
   ]
  },
  {
   "cell_type": "code",
   "execution_count": 66,
   "metadata": {},
   "outputs": [],
   "source": [
    "act_fluxes_dict = pk.load(open('ACT_central_flux.pickle', 'rb'))\n",
    "mdcw_fluxes_dict = pk.load(open('Madcows_central_flux.pickle', 'rb'))\n"
   ]
  },
  {
   "cell_type": "code",
   "execution_count": 67,
   "metadata": {},
   "outputs": [],
   "source": [
    "act_fluxes = np.zeros(len(act_fluxes_dict.keys())-1)\n",
    "for i, key in enumerate(act_fluxes_dict.keys()):\n",
    "    if i == 0: continue\n",
    "    act_fluxes[i-1] = act_fluxes_dict[key]\n",
    "    \n",
    "mdcw_fluxes = np.zeros(len(mdcw_fluxes_dict.keys())-1)\n",
    "for i, key in enumerate(mdcw_fluxes_dict.keys()):\n",
    "    if i == 0: continue\n",
    "    mdcw_fluxes[i-1] = mdcw_fluxes_dict[key]"
   ]
  },
  {
   "cell_type": "code",
   "execution_count": 73,
   "metadata": {},
   "outputs": [],
   "source": [
    "\n",
    "act_fluxes = act_fluxes[act_fluxes > 2.5e-3]\n",
    "mdcw_fluxes = mdcw_fluxes[mdcw_fluxes > 2.5e-3]\n",
    "act_fluxes.sort()\n",
    "mdcw_fluxes.sort()\n",
    "\n",
    "x0 = np.arange(len(act_fluxes))\n",
    "x1 = np.arange(len(mdcw_fluxes))"
   ]
  },
  {
   "cell_type": "code",
   "execution_count": 83,
   "metadata": {},
   "outputs": [
    {
     "data": {
      "image/png": "[encoded data removed]",
      "text/plain": [
       "<Figure size 432x288 with 1 Axes>"
      ]
     },
     "metadata": {
      "needs_background": "light"
     },
     "output_type": "display_data"
    }
   ],
   "source": [
    "plt.plot(x0/len(x0), act_fluxes, label = 'ACT')\n",
    "plt.plot(x1/len(x1), mdcw_fluxes, label = 'MaDCoWS')\n",
    "\n",
    "plt.legend()\n",
    "\n",
    "plt.yscale('log')"
   ]
  },
  {
   "cell_type": "code",
   "execution_count": 80,
   "metadata": {},
   "outputs": [
    {
     "data": {
      "text/plain": [
       "Ks_2sampResult(statistic=0.0996747603650913, pvalue=0.00024499039679848345)"
      ]
     },
     "execution_count": 80,
     "metadata": {},
     "output_type": "execute_result"
    }
   ],
   "source": [
    "stats.ks_2samp(act_fluxes, mdcw_fluxes)"
   ]
  },
  {
   "cell_type": "code",
   "execution_count": 81,
   "metadata": {},
   "outputs": [
    {
     "data": {
      "text/plain": [
       "KstestResult(statistic=0.9079097772066159, pvalue=0.0)"
      ]
     },
     "execution_count": 81,
     "metadata": {},
     "output_type": "execute_result"
    }
   ],
   "source": [
    "stats.kstest(act_fluxes, 'uniform')"
   ]
  },
  {
   "cell_type": "code",
   "execution_count": 82,
   "metadata": {},
   "outputs": [
    {
     "data": {
      "text/plain": [
       "array([0.00250158, 0.00250365, 0.00250371, ..., 0.336582  , 0.35266072,\n",
       "       0.71273063])"
      ]
     },
     "execution_count": 82,
     "metadata": {},
     "output_type": "execute_result"
    }
   ],
   "source": [
    "act_fluxes"
   ]
  },
  {
   "cell_type": "code",
   "execution_count": null,
   "metadata": {},
   "outputs": [],
   "source": []
  }
 ],
 "metadata": {
  "kernelspec": {
   "display_name": "actmadcows",
   "language": "python",
   "name": "actmadcows"
  },
  "language_info": {
   "codemirror_mode": {
    "name": "ipython",
    "version": 3
   },
   "file_extension": ".py",
   "mimetype": "text/x-python",
   "name": "python",
   "nbconvert_exporter": "python",
   "pygments_lexer": "ipython3",
   "version": "3.6.5"
  }
 },
 "nbformat": 4,
 "nbformat_minor": 2
}
