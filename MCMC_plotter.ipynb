{
 "cells": [
  {
   "cell_type": "code",
   "execution_count": 21,
   "metadata": {},
   "outputs": [],
   "source": [
    "from chainconsumer import ChainConsumer\n",
    "import pickle as pk\n",
    "import numpy as np\n",
    "import astropy.units as u\n",
    "from astropy.modeling import models\n",
    "from scipy.stats import norm, uniform\n",
    "import matplotlib.pyplot as plt\n",
    "from IPython.display import display, Math\n",
    "import pandas as pd\n",
    "import matplotlib\n",
    "\n",
    "import seaborn as sns\n",
    "from palettable.colorbrewer.diverging import Spectral_11 \n",
    "from palettable.colorbrewer.sequential import Blues_9\n",
    "\n",
    "%matplotlib inline\n"
   ]
  },
  {
   "cell_type": "code",
   "execution_count": 2,
   "metadata": {},
   "outputs": [],
   "source": [
    "def v0_fixed_log_likelihood(theta, x, y, yerr):\n",
    "    T_guess, a_guess, beta_guess, log_f = theta\n",
    "    #T_guess, a_guess, log_f = theta\n",
    "    y, yerr =  y.value, yerr.value\n",
    "    model = lambda v: a_guess*(1-np.exp(-(v.value/(3000))**beta_guess))*models.BlackBody(temperature = T_guess*u.K, scale = 1*u.MJy/u.sr)(v).value\n",
    "    \n",
    "    #model = lambda v: a_guess*(1-np.exp(-(v.value/3000)**1.95))*models.BlackBody(temperature = T_guess*u.K, scale = 1*u.MJy/u.sr)(v).value\n",
    "    \n",
    "    sigma2 = yerr ** 2 + model(x) ** 2 * np.exp(2 * log_f)\n",
    "    return -0.5 * np.sum((y - model(x)) ** 2 / sigma2 + np.log(sigma2))"
   ]
  },
  {
   "cell_type": "code",
   "execution_count": 3,
   "metadata": {},
   "outputs": [],
   "source": [
    "def v0_fixed_log_prior(theta):\n",
    "    T_guess, a_guess, beta_guess, log_f = theta\n",
    "\n",
    "    if 0 < T_guess < 200 and 0<a_guess<1 and -5< beta_guess< 10 and -20.0 < log_f < 10.0:\n",
    "    #if 0 < T_guess < 200 and 0<a_guess<1 and 0<v_0_guess< 100 and -5< beta_guess< 10 -10.0 < log_f < 1.0:\n",
    "        return 0.0\n",
    "    return -np.inf"
   ]
  },
  {
   "cell_type": "code",
   "execution_count": 4,
   "metadata": {},
   "outputs": [],
   "source": [
    "def v0_fixed_log_probability(theta, x, y, yerr):\n",
    "    lp = v0_fixed_log_prior(theta)\n",
    "    if not np.isfinite(lp):\n",
    "        return -np.inf\n",
    "    if np.isnan(lp + v0_fixed_log_likelihood(theta, x, y, yerr)):\n",
    "        print(theta,v0_fixed_log_likelihood(theta, x, y, yerr))\n",
    "    return lp + v0_fixed_log_likelihood(theta, x, y, yerr)"
   ]
  },
  {
   "cell_type": "code",
   "execution_count": 5,
   "metadata": {},
   "outputs": [],
   "source": [
    "def model(v, best_fit):\n",
    "    return best_fit[1]*(1-np.exp(-(v.value/3000)**best_fit[2]))*models.BlackBody(temperature = best_fit[0]*u.K, scale = 1*u.MJy/u.sr)(v).value\n"
   ]
  },
  {
   "cell_type": "code",
   "execution_count": 25,
   "metadata": {},
   "outputs": [],
   "source": [
    "def plot(bounds, title):\n",
    "    matplotlib.rc('font',**{'family':'serif','sans-serif':['Times'],'size':11})\n",
    "    plt.rc('font',family='serif',size=11)\n",
    "    fullpage = False\n",
    "\n",
    "\n",
    "    dpi = 72.27*390.00/504.00\n",
    "\n",
    "    factory = 0.50\n",
    "    factorx = 1.00 if fullpage else 0.50\n",
    "    figsize = (factorx*504.00/dpi,factory*504.00/dpi)\n",
    "    \n",
    "    fig, ax = plt.subplots()\n",
    "    #ax.set_prop_cycle('color', Mint_7.mpl_colors)\n",
    "    plt.errorbar(x.value, y.value, yerr=yerr.value, fmt=\".k\", capsize=0, lw=1, label=\"Data\")\n",
    "    ax.plot(x0, bounds[2, :], label=\"Best Fit\", ls=\"--\", color =Blues_9.hex_colors[-2]),\n",
    "    plt.fill_between(x0, bounds[0, :], bounds[-1, :], \n",
    "                     label=\"95% uncertainty\", fc = Blues_9.hex_colors[-2],\n",
    "                     alpha=0.4)\n",
    "    plt.fill_between(x0, bounds[1, :], bounds[-2, :], \n",
    "                     label=\"68% uncertainty\", fc = Blues_9.hex_colors[-2],\n",
    "                     alpha=0.2)\n",
    "    ax.legend()\n",
    "    #ax.set_title('MaDCoWS Stack, grey body temp: '+ title )\n",
    "    ax.tick_params(direction='in')\n",
    "    #size = 15\n",
    "    ax.set_xlabel(\"Frequency (GHz)\", fontsize = size), ax.set_ylabel(\"Surface Brightness (MJy/sr)\")\n",
    "    ax.set_xlim(150, 1500), ax.set_ylim(10e-4, 10e-1), ax.set_xscale('log'), ax.set_yscale('log')\n",
    "    plt.savefig('./plots/herschel/v0_fixed_greybody_for_paper.pdf')\n",
    "    plt.savefig('./plots/herschel/v0_fixed_greybody_for_paper.png', dpi = 300)\n"
   ]
  },
  {
   "cell_type": "code",
   "execution_count": 10,
   "metadata": {},
   "outputs": [],
   "source": [
    "x0 = np.linspace(10, 2000, 100)*u.GHz\n",
    "\n",
    "x = np.array([1362.69, 250, 350, 500])*u.um\n",
    "x = x.to(u.GHz, equivalencies=u.spectral())\n",
    "\n",
    "y = [0.0044044, 0.21843581, 0.16337599, 0.08575974]*u.MJy/u.sr\n",
    "\n",
    "yerr = np.array([0.0006369, 0.01451, 0.011704, 0.0075511])*u.MJy/u.sr\n",
    "\n",
    "ndim = 4"
   ]
  },
  {
   "cell_type": "code",
   "execution_count": 11,
   "metadata": {},
   "outputs": [
    {
     "data": {
      "text/latex": [
       "$\\displaystyle \\mathrm{T} = 12.1_{-1.4}^{1.8}$"
      ],
      "text/plain": [
       "<IPython.core.display.Math object>"
      ]
     },
     "metadata": {},
     "output_type": "display_data"
    },
    {
     "data": {
      "text/latex": [
       "$\\displaystyle \\mathrm{A} = 0.0_{-0.0}^{0.0}$"
      ],
      "text/plain": [
       "<IPython.core.display.Math object>"
      ]
     },
     "metadata": {},
     "output_type": "display_data"
    },
    {
     "data": {
      "text/latex": [
       "$\\displaystyle \\mathrm{\\beta} = 2.0_{-0.3}^{0.3}$"
      ],
      "text/plain": [
       "<IPython.core.display.Math object>"
      ]
     },
     "metadata": {},
     "output_type": "display_data"
    },
    {
     "data": {
      "text/latex": [
       "$\\displaystyle \\mathrm{f} = -18.9_{-21.4}^{19.1}$"
      ],
      "text/plain": [
       "<IPython.core.display.Math object>"
      ]
     },
     "metadata": {},
     "output_type": "display_data"
    }
   ],
   "source": [
    "sampler = pk.load( open('v0_fixed_sampler.p', 'rb'))\n",
    "\n",
    "samples = sampler.get_chain()\n",
    "\n",
    "labels = ['T', 'A', r'\\beta', 'f']\n",
    "\n",
    "best_fit = []\n",
    "flat_samples = sampler.get_chain(discard=300, thin=15, flat=True)\n",
    "\n",
    "for i in range(ndim):\n",
    "    mcmc = np.percentile(flat_samples[:, i], [16, 50, 84])\n",
    "    q = np.diff(mcmc)\n",
    "    txt = r\"$\\mathrm{{{3}}} = {0:.1f}_{{-{1:.1f}}}^{{{2:.1f}}}$\"\n",
    "    txt = txt.format(mcmc[1], q[0], q[1], labels[i])\n",
    "    \n",
    "    if labels[i] == 'T':\n",
    "        title = txt\n",
    "    best_fit.append(mcmc[1])\n",
    "    display(Math(txt))"
   ]
  },
  {
   "cell_type": "code",
   "execution_count": 12,
   "metadata": {},
   "outputs": [
    {
     "name": "stdout",
     "output_type": "stream",
     "text": [
      "[[[ 1.29349072e+01  1.30235076e-04  1.82548647e+00 -2.30299565e+00]\n",
      "  [ 1.29350880e+01  2.07567679e-04  1.82518003e+00 -2.30262798e+00]\n",
      "  [ 1.29352725e+01 -4.42500149e-05  1.82535481e+00 -2.30259456e+00]\n",
      "  ...\n",
      "  [ 1.29350088e+01  9.17649777e-06  1.82561864e+00 -2.30278760e+00]\n",
      "  [ 1.29351852e+01  6.90161837e-05  1.82546006e+00 -2.30252776e+00]\n",
      "  [ 1.29354480e+01  3.33560654e-05  1.82549912e+00 -2.30250698e+00]]\n",
      "\n",
      " [[ 1.29349072e+01  1.30235076e-04  1.82548647e+00 -2.30299565e+00]\n",
      "  [ 1.29350880e+01  2.07567679e-04  1.82518003e+00 -2.30262798e+00]\n",
      "  [ 1.29352725e+01 -4.42500149e-05  1.82535481e+00 -2.30259456e+00]\n",
      "  ...\n",
      "  [ 1.29350088e+01  9.17649777e-06  1.82561864e+00 -2.30278760e+00]\n",
      "  [ 1.29352121e+01  4.77965946e-05  1.82545320e+00 -2.30251786e+00]\n",
      "  [ 1.29354480e+01  3.33560654e-05  1.82549912e+00 -2.30250698e+00]]\n",
      "\n",
      " [[ 1.29349072e+01  1.30235076e-04  1.82548647e+00 -2.30299565e+00]\n",
      "  [ 1.29350880e+01  2.07567679e-04  1.82518003e+00 -2.30262798e+00]\n",
      "  [ 1.29352725e+01 -4.42500149e-05  1.82535481e+00 -2.30259456e+00]\n",
      "  ...\n",
      "  [ 1.29350088e+01  9.17649777e-06  1.82561864e+00 -2.30278760e+00]\n",
      "  [ 1.29352121e+01  4.77965946e-05  1.82545320e+00 -2.30251786e+00]\n",
      "  [ 1.29354480e+01  3.33560654e-05  1.82549912e+00 -2.30250698e+00]]\n",
      "\n",
      " ...\n",
      "\n",
      " [[ 1.23892858e+01  5.09264693e-05  1.88801394e+00 -3.47030147e+01]\n",
      "  [ 1.25009250e+01  5.41297720e-05  1.88024734e+00 -7.90228950e+00]\n",
      "  [ 1.05326559e+01  1.49443057e-04  2.20536665e+00 -4.25217880e+01]\n",
      "  ...\n",
      "  [ 1.20102588e+01  7.06450634e-05  2.03147813e+00 -2.46904287e+01]\n",
      "  [ 1.13242483e+01  8.22341545e-05  1.96569038e+00 -9.71853048e+00]\n",
      "  [ 1.26987995e+01  5.14725017e-05  1.92210287e+00 -1.06208243e+01]]\n",
      "\n",
      " [[ 1.22500386e+01  5.44812076e-05  1.92811575e+00 -2.76698188e+01]\n",
      "  [ 1.22876803e+01  6.21105719e-05  1.95342722e+00 -1.31065413e+01]\n",
      "  [ 1.05007511e+01  1.51857611e-04  2.21363851e+00 -4.27154558e+01]\n",
      "  ...\n",
      "  [ 1.23614292e+01  6.47125820e-05  2.06515502e+00 -3.23545767e+01]\n",
      "  [ 1.13242483e+01  8.22341545e-05  1.96569038e+00 -9.71853048e+00]\n",
      "  [ 1.26987995e+01  5.14725017e-05  1.92210287e+00 -1.06208243e+01]]\n",
      "\n",
      " [[ 1.22500386e+01  5.44812076e-05  1.92811575e+00 -2.76698188e+01]\n",
      "  [ 1.22124098e+01  6.94554573e-05  2.02675320e+00 -4.64920774e+00]\n",
      "  [ 1.07331668e+01  1.41253205e-04  2.17198920e+00 -4.23582381e+01]\n",
      "  ...\n",
      "  [ 1.23614292e+01  6.47125820e-05  2.06515502e+00 -3.23545767e+01]\n",
      "  [ 1.12743669e+01  8.84993759e-05  1.99037009e+00 -1.95704937e+01]\n",
      "  [ 1.26987995e+01  5.14725017e-05  1.92210287e+00 -1.06208243e+01]]]\n"
     ]
    }
   ],
   "source": [
    "print(samples)"
   ]
  },
  {
   "cell_type": "code",
   "execution_count": 26,
   "metadata": {},
   "outputs": [
    {
     "ename": "NameError",
     "evalue": "name 'size' is not defined",
     "output_type": "error",
     "traceback": [
      "\u001b[0;31m---------------------------------------------------------------------------\u001b[0m",
      "\u001b[0;31mNameError\u001b[0m                                 Traceback (most recent call last)",
      "\u001b[0;32m<ipython-input-26-a115f3fcced5>\u001b[0m in \u001b[0;36m<module>\u001b[0;34m\u001b[0m\n\u001b[1;32m     11\u001b[0m \u001b[0mrealisations\u001b[0m \u001b[0;34m=\u001b[0m \u001b[0mnp\u001b[0m\u001b[0;34m.\u001b[0m\u001b[0marray\u001b[0m\u001b[0;34m(\u001b[0m\u001b[0;34m[\u001b[0m\u001b[0mmodel\u001b[0m\u001b[0;34m(\u001b[0m\u001b[0mx0\u001b[0m\u001b[0;34m,\u001b[0m \u001b[0mrow\u001b[0m\u001b[0;34m[\u001b[0m\u001b[0;34m:\u001b[0m\u001b[0;36m3\u001b[0m\u001b[0;34m]\u001b[0m\u001b[0;34m)\u001b[0m \u001b[0;32mfor\u001b[0m \u001b[0mrow\u001b[0m \u001b[0;32min\u001b[0m \u001b[0mshuffled\u001b[0m\u001b[0;34m[\u001b[0m\u001b[0;34m:\u001b[0m\u001b[0;36m1000\u001b[0m\u001b[0;34m,\u001b[0m \u001b[0;34m:\u001b[0m\u001b[0;34m]\u001b[0m\u001b[0;34m]\u001b[0m\u001b[0;34m)\u001b[0m\u001b[0;34m\u001b[0m\u001b[0m\n\u001b[1;32m     12\u001b[0m \u001b[0mbounds\u001b[0m \u001b[0;34m=\u001b[0m \u001b[0mnp\u001b[0m\u001b[0;34m.\u001b[0m\u001b[0mpercentile\u001b[0m\u001b[0;34m(\u001b[0m\u001b[0mrealisations\u001b[0m\u001b[0;34m,\u001b[0m \u001b[0;36m100\u001b[0m \u001b[0;34m*\u001b[0m \u001b[0mnorm\u001b[0m\u001b[0;34m.\u001b[0m\u001b[0mcdf\u001b[0m\u001b[0;34m(\u001b[0m\u001b[0;34m[\u001b[0m\u001b[0;34m-\u001b[0m\u001b[0;36m2\u001b[0m\u001b[0;34m,\u001b[0m \u001b[0;34m-\u001b[0m\u001b[0;36m1\u001b[0m\u001b[0;34m,\u001b[0m \u001b[0;36m0\u001b[0m\u001b[0;34m,\u001b[0m \u001b[0;36m1\u001b[0m\u001b[0;34m,\u001b[0m \u001b[0;36m2\u001b[0m\u001b[0;34m]\u001b[0m\u001b[0;34m)\u001b[0m\u001b[0;34m,\u001b[0m \u001b[0maxis\u001b[0m\u001b[0;34m=\u001b[0m\u001b[0;36m0\u001b[0m\u001b[0;34m)\u001b[0m\u001b[0;34m\u001b[0m\u001b[0m\n\u001b[0;32m---> 13\u001b[0;31m \u001b[0mplot\u001b[0m\u001b[0;34m(\u001b[0m\u001b[0mbounds\u001b[0m\u001b[0;34m,\u001b[0m \u001b[0mtitle\u001b[0m\u001b[0;34m)\u001b[0m\u001b[0;34m\u001b[0m\u001b[0m\n\u001b[0m",
      "\u001b[0;32m<ipython-input-25-955c6002d0b9>\u001b[0m in \u001b[0;36mplot\u001b[0;34m(bounds, title)\u001b[0m\n\u001b[1;32m     25\u001b[0m     \u001b[0max\u001b[0m\u001b[0;34m.\u001b[0m\u001b[0mtick_params\u001b[0m\u001b[0;34m(\u001b[0m\u001b[0mdirection\u001b[0m\u001b[0;34m=\u001b[0m\u001b[0;34m'in'\u001b[0m\u001b[0;34m)\u001b[0m\u001b[0;34m\u001b[0m\u001b[0m\n\u001b[1;32m     26\u001b[0m     \u001b[0;31m#size = 15\u001b[0m\u001b[0;34m\u001b[0m\u001b[0;34m\u001b[0m\u001b[0m\n\u001b[0;32m---> 27\u001b[0;31m     \u001b[0max\u001b[0m\u001b[0;34m.\u001b[0m\u001b[0mset_xlabel\u001b[0m\u001b[0;34m(\u001b[0m\u001b[0;34m\"Frequency (GHz)\"\u001b[0m\u001b[0;34m,\u001b[0m \u001b[0mfontsize\u001b[0m \u001b[0;34m=\u001b[0m \u001b[0msize\u001b[0m\u001b[0;34m)\u001b[0m\u001b[0;34m,\u001b[0m \u001b[0max\u001b[0m\u001b[0;34m.\u001b[0m\u001b[0mset_ylabel\u001b[0m\u001b[0;34m(\u001b[0m\u001b[0;34m\"Surface Brightness (MJy/sr)\"\u001b[0m\u001b[0;34m)\u001b[0m\u001b[0;34m\u001b[0m\u001b[0m\n\u001b[0m\u001b[1;32m     28\u001b[0m     \u001b[0max\u001b[0m\u001b[0;34m.\u001b[0m\u001b[0mset_xlim\u001b[0m\u001b[0;34m(\u001b[0m\u001b[0;36m150\u001b[0m\u001b[0;34m,\u001b[0m \u001b[0;36m1500\u001b[0m\u001b[0;34m)\u001b[0m\u001b[0;34m,\u001b[0m \u001b[0max\u001b[0m\u001b[0;34m.\u001b[0m\u001b[0mset_ylim\u001b[0m\u001b[0;34m(\u001b[0m\u001b[0;36m10e-4\u001b[0m\u001b[0;34m,\u001b[0m \u001b[0;36m10e-1\u001b[0m\u001b[0;34m)\u001b[0m\u001b[0;34m,\u001b[0m \u001b[0max\u001b[0m\u001b[0;34m.\u001b[0m\u001b[0mset_xscale\u001b[0m\u001b[0;34m(\u001b[0m\u001b[0;34m'log'\u001b[0m\u001b[0;34m)\u001b[0m\u001b[0;34m,\u001b[0m \u001b[0max\u001b[0m\u001b[0;34m.\u001b[0m\u001b[0mset_yscale\u001b[0m\u001b[0;34m(\u001b[0m\u001b[0;34m'log'\u001b[0m\u001b[0;34m)\u001b[0m\u001b[0;34m\u001b[0m\u001b[0m\n\u001b[1;32m     29\u001b[0m     \u001b[0mplt\u001b[0m\u001b[0;34m.\u001b[0m\u001b[0msavefig\u001b[0m\u001b[0;34m(\u001b[0m\u001b[0;34m'./plots/herschel/v0_fixed_greybody_for_paper.pdf'\u001b[0m\u001b[0;34m)\u001b[0m\u001b[0;34m\u001b[0m\u001b[0m\n",
      "\u001b[0;31mNameError\u001b[0m: name 'size' is not defined"
     ]
    },
    {
     "data": {
      "image/png": "[encoded data removed]",
      "text/plain": [
       "<Figure size 432x288 with 1 Axes>"
      ]
     },
     "metadata": {},
     "output_type": "display_data"
    }
   ],
   "source": [
    "\n",
    "c = ChainConsumer()\n",
    "chain = sampler.chain[:, 500:, :]\n",
    "uniform = chain.reshape((-1, ndim))\n",
    "\n",
    "c.add_chain(uniform, parameters = labels, name=\"Uniform\")\n",
    "\n",
    "\n",
    "shuffled = np.copy(uniform)\n",
    "np.random.shuffle(shuffled)\n",
    "# Row by row construct the prediction of our model using 1000 model realisations\n",
    "realisations = np.array([model(x0, row[:3]) for row in shuffled[:1000, :]])\n",
    "bounds = np.percentile(realisations, 100 * norm.cdf([-2, -1, 0, 1, 2]), axis=0)\n",
    "plot(bounds, title)\n"
   ]
  },
  {
   "cell_type": "code",
   "execution_count": null,
   "metadata": {},
   "outputs": [],
   "source": [
    "sns.set_style(\"ticks\", {\"xtick.direction\": \"in\",\"ytick.direction\": \"in\"})\n",
    "sns.set_context(\"paper\")\n",
    "\n",
    "matplotlib.rc('font',**{'family':'serif','sans-serif':['Times'],'size':11})\n",
    "plt.rc('font',family='serif',size=11)\n",
    "\n",
    "labels = ['T', 'A (x$10^{-4}$)', r'$\\beta$', 'f']\n",
    "flat_samples = sampler.get_chain(discard=300, thin=15, flat=True)\n",
    "cut = 3\n",
    "df = pd.DataFrame(flat_samples.T[:cut].T, columns = labels[:cut])\n",
    "\n",
    "df['A (x$10^{-4}$)'] = df['A (x$10^{-4}$)']*10**4\n",
    "#Z correction\n",
    "df['T'] =  df['T']*2.08\n",
    "\n",
    "#sns.pairplot(df, corner = True, kind = 'kde')\n",
    "g = sns.PairGrid(df, diag_sharey=False, corner = True)\n",
    "g.map_lower(sns.kdeplot, levels = [(1-np.exp(-(1./2.)**2/2.)), (1-np.exp(-0.5)), 1], fill=True)\n",
    "g.map_diag(sns.kdeplot, common_grid = True)\n",
    "plt.savefig('./plots/herschel/cornerplot_forpaper.pdf')"
   ]
  },
  {
   "cell_type": "code",
   "execution_count": null,
   "metadata": {},
   "outputs": [],
   "source": [
    "c2 = ChainConsumer()\n",
    "labels = ['T/(1+z)', 'A', r'$\\beta$', 'f']\n",
    "\n",
    "c2.add_chain(uniform.T[:3].T, parameters = labels[:3], name=\"Uniform\", kde = True)\n",
    "c2.configure(label_font_size=10)\n",
    "c2.plotter.plot(filename = 'forpaper.pdf')\n",
    "plt.savefig('cornerplot_forpaper.png', dpi = 300)\n",
    "plt.show()"
   ]
  },
  {
   "cell_type": "code",
   "execution_count": null,
   "metadata": {},
   "outputs": [],
   "source": [
    "from chainconsumer import ChainConsumer\n",
    "from scipy.special import erfc\n",
    "from scipy.stats import norm\n",
    "import emcee\n",
    "import numpy as np\n",
    "\n",
    "np.random.seed(3)\n",
    "mu, sigma, alpha, num_points = 100, 10, 85, 1000\n",
    "d_all = np.random.normal(mu, sigma, size=num_points)\n",
    "d = d_all[d_all > alpha]\n",
    "\n",
    "\n",
    "def uncorrected_likelihood(xs, data):\n",
    "    mu, sigma = xs\n",
    "    if sigma < 0:\n",
    "        return -np.inf\n",
    "    return norm(mu, sigma).logpdf(data).sum()\n",
    "\n",
    "def corrected_likelihood(xs, data):\n",
    "    mu, sigma = xs\n",
    "    if sigma < 0:\n",
    "        return -np.inf\n",
    "    correction = data.size * np.log(0.5 * erfc((alpha - mu)/(np.sqrt(2) * sigma)))\n",
    "    return uncorrected_likelihood(xs, data) - correction\n",
    "\n",
    "\n",
    "ndim = 2\n",
    "nwalkers = 50\n",
    "p0 = np.array([95, 0]) + np.random.uniform(low=1, high=10, size=(nwalkers, ndim))\n",
    "c = ChainConsumer()\n",
    "\n",
    "functions = [corrected_likelihood, uncorrected_likelihood]\n",
    "names = [\"Corrected Likelihood\", \"Uncorrected Likelihood\"]\n",
    "for fn, name in zip(functions, names):\n",
    "    sampler = emcee.EnsembleSampler(nwalkers, ndim, fn, args=[d])\n",
    "    state = sampler.run_mcmc(p0, 2000)\n",
    "    chain = sampler.chain[:, 300:, :]\n",
    "    flat_chain = chain.reshape((-1, ndim))\n",
    "    c.add_chain(flat_chain, parameters=[\"$\\mu$\", \"$\\sigma$\"], name=name)\n",
    "\n",
    "c.plotter.plot(truth=[mu, sigma], figsize=2.0);\n"
   ]
  },
  {
   "cell_type": "code",
   "execution_count": null,
   "metadata": {},
   "outputs": [],
   "source": [
    "import subprocess\n",
    "import os \n",
    "os.environ[\"PATH\"] += os.pathsep + '/gpfs/fs1/home/r/rbond/jorlo/actmadcows/lib/python3.6/site-packages'\n",
    "\n",
    "\n",
    "subprocess.check_call([\"latex\"])"
   ]
  },
  {
   "cell_type": "code",
   "execution_count": null,
   "metadata": {},
   "outputs": [],
   "source": []
  }
 ],
 "metadata": {
  "kernelspec": {
   "display_name": "actmadcows",
   "language": "python",
   "name": "actmadcows"
  },
  "language_info": {
   "codemirror_mode": {
    "name": "ipython",
    "version": 3
   },
   "file_extension": ".py",
   "mimetype": "text/x-python",
   "name": "python",
   "nbconvert_exporter": "python",
   "pygments_lexer": "ipython3",
   "version": "3.6.5"
  }
 },
 "nbformat": 4,
 "nbformat_minor": 2
}
