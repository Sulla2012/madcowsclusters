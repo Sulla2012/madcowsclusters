{
 "cells": [
  {
   "cell_type": "code",
   "execution_count": 44,
   "metadata": {},
   "outputs": [],
   "source": [
    "import numpy as np\n",
    "import astropy.units as u\n",
    "from astropy.io import fits\n",
    "from astropy.table import QTable\n",
    "from astroquery.esasky import ESASky\n",
    "from astropy.nddata import Cutout2D\n",
    "from astropy.convolution import Gaussian2DKernel, convolve\n",
    "from astropy import wcs\n",
    "import matplotlib.pyplot as plt\n",
    "import pickle\n",
    "\n",
    "path = \"/home/alex/Downloads/\""
   ]
  },
  {
   "cell_type": "code",
   "execution_count": 14,
   "metadata": {},
   "outputs": [],
   "source": [
    "def background_emission(hmap, map_w, pixel_w, max_sep, get_background):\n",
    "    '''\n",
    "    Args:\n",
    "        hmap: data array\n",
    "        map_w: width of half the array/map\n",
    "        pixel_w: size of the pixels\n",
    "        max_sep: radius of map that will contain the central emission \n",
    "        get_background: determines whether to look for background values (boolean)\n",
    "    Returns:\n",
    "        hist: array of central pixel values\n",
    "        means: array of length 20 of mean values of random background areas\n",
    "    '''\n",
    "    # Returns the average surface brightness in Jy/pixel of \n",
    "    # pixels within max_sep of the center of hmap (assuming hmap has units MJy/pixel)    \n",
    "    center = map_w + 0.5\n",
    "    emission = 0\n",
    "    div = 0\n",
    "    hist = []\n",
    "    alpha = []\n",
    "    delta = []\n",
    "    for i in range(2*map_w):\n",
    "        for j in range(2*map_w):\n",
    "            if pixel_w*np.sqrt((center-i)**2+(center-j)**2) <= max_sep:\n",
    "                hist.append(hmap[i,j])\n",
    "                alpha.append(i)\n",
    "                delta.append(j)\n",
    "                div +=1\n",
    "    # Find background flux\n",
    "    # Randomly choose a point that is at least n RA pixels and m Dec pixels away from the center\n",
    "    # Shift the circle of pixels that we formed above so that it centers around the random point\n",
    "    # Calculates the mean of the pixel value in this new, displaced circle\n",
    "    if get_background:\n",
    "        means = []\n",
    "        for k in range(20): # Iterate 20 times\n",
    "            background_hist = []\n",
    "            sign_RA = np.random.choice([-1,1]) #Randomize direction of offset\n",
    "            sign_dec = np.random.choice([-1,1]) \n",
    "            offset_RA = sign_RA*(300.-10.)* np.random.random_sample() + 5. #Offset RA between 5 and 70 pixels away\n",
    "            offset_RA = int(np.round(offset_RA))\n",
    "            offset_dec = sign_dec * (300.-10.)* np.random.random_sample() + 5. #Offset dec 5 and 70 pixels away\n",
    "            offset_dec = int(np.round(offset_dec))\n",
    "            # Take the Circle of pixels around the center of the stamp from above, and shift it\n",
    "            # with respect to the offset you have randomly settled on\n",
    "            offset_alpha = []\n",
    "            offset_delta = []\n",
    "            for x in range(len(alpha)): \n",
    "                offset_alpha.append(alpha[x]+offset_RA)\n",
    "                offset_delta.append(delta[x]+offset_dec)\n",
    "            # Record pixel values of the new, displaced circle\n",
    "            center_RA = center + offset_RA\n",
    "            center_dec = center + offset_dec\n",
    "            for i in range(len(offset_alpha)):\n",
    "                background_hist.append(hmap[offset_alpha[i],offset_delta[i]])\n",
    "            means.append(np.mean(background_hist))\n",
    "    return  np.array(hist), np.array(means)"
   ]
  },
  {
   "cell_type": "code",
   "execution_count": 15,
   "metadata": {},
   "outputs": [],
   "source": [
    "def central_emission(hmap, map_w, pixel_w, max_sep):\n",
    "    #Returns the average surface brightness in Jy/pixel of pixels within max_sep \n",
    "    # of the center of hmap (assuming hmap has units MJy/pixel)\n",
    "    center = map_w + 0.5\n",
    "    emission = 0\n",
    "    div = 0\n",
    "    hist = []\n",
    "    for i in range(2*map_w):\n",
    "        for j in range(2*map_w):\n",
    "            if pixel_w*np.sqrt((center-i)**2+(center-j)**2) <= max_sep:\n",
    "                hist.append(hmap[i,j])\n",
    "                div +=1\n",
    "    return  np.array(hist)"
   ]
  },
  {
   "cell_type": "code",
   "execution_count": 7,
   "metadata": {},
   "outputs": [],
   "source": [
    "mdcw = fits.open('/home/alex/Desktop/Clusters/MADCOWSUnion.fits')\n",
    "\n",
    "mdcwRA = mdcw[1].data['RADeg']\n",
    "mdcwDec = mdcw[1].data['decDeg']\n",
    "mdcwName = mdcw[1].data['name']"
   ]
  },
  {
   "cell_type": "code",
   "execution_count": 12,
   "metadata": {
    "scrolled": true
   },
   "outputs": [
    {
     "name": "stderr",
     "output_type": "stream",
     "text": [
      "WARNING: FITSFixedWarning: 'obsfix' made the change 'Set OBSGEO-L to  -107.618000 from OBSGEO-[XYZ].\n",
      "Set OBSGEO-B to    34.078827 from OBSGEO-[XYZ].\n",
      "Set OBSGEO-H to     2115.607 from OBSGEO-[XYZ]'. [astropy.wcs.wcs]\n"
     ]
    }
   ],
   "source": [
    "hdu = fits.open('/home/alex/Downloads/newMoo/'+mdcwName[0])\n",
    "w = wcs.WCS(hdu[0].header)\n",
    "header = hdu[0].header\n",
    "pixel_size = header.get('CDELT2')*u.deg"
   ]
  },
  {
   "cell_type": "code",
   "execution_count": null,
   "metadata": {},
   "outputs": [],
   "source": []
  },
  {
   "cell_type": "code",
   "execution_count": 9,
   "metadata": {},
   "outputs": [],
   "source": [
    "stackArr = []"
   ]
  },
  {
   "cell_type": "code",
   "execution_count": 10,
   "metadata": {
    "scrolled": true
   },
   "outputs": [],
   "source": [
    "# fill stackArr - 998 is weird for moo\n",
    "i = 0\n",
    "while i < 1:#len(mdcwRA):\n",
    "    cutout = fits.open(path + 'newMoo/' + mdcwName[i])\n",
    "    vmap = cutout[0].data[0][0]\n",
    "    #Convert from Jy/beam to Jy/pixel\n",
    "    conv_factor = (np.pi*(2.5/2)**2/np.log(2))\n",
    "    vmap = (vmap/conv_factor)\n",
    "    stackArr.append(vmap)\n",
    "    i+=1\n",
    "len(stackArr)"
   ]
  },
  {
   "cell_type": "code",
   "execution_count": 26,
   "metadata": {},
   "outputs": [],
   "source": [
    "# cut excess rows/columns off evens\n",
    "i = 0\n",
    "while(i < len(stackArr)):\n",
    "    if(stackArr[i].shape[0] > 720 and stackArr[i].shape[0] % 2 == 0):\n",
    "        while(stackArr[i].shape[0] > 720):\n",
    "            stackArr[i] = np.delete(stackArr[i],stackArr[i].shape[0]-1,0)\n",
    "            stackArr[i] = np.delete(stackArr[i],0,0)\n",
    "    if(stackArr[i].shape[1] > 720 and stackArr[i].shape[1] % 2 == 0):\n",
    "        while(stackArr[i].shape[1] > 720):\n",
    "            stackArr[i] = np.delete(stackArr[i],stackArr[i].shape[1]-1,1)\n",
    "            stackArr[i] = np.delete(stackArr[i],0,1)\n",
    "    i+=1"
   ]
  },
  {
   "cell_type": "code",
   "execution_count": 27,
   "metadata": {},
   "outputs": [],
   "source": [
    "# cut excess rows/columns off odds\n",
    "i = 0\n",
    "while(i < len(stackArr)):\n",
    "    if(stackArr[i].size > 518400):\n",
    "        if(stackArr[i].shape[0] > 720 and stackArr[i].shape[0] % 2 != 0):\n",
    "            if(stackArr[i].shape[0] == 721):\n",
    "                stackArr[i] = stackArr[i] = np.delete(stackArr[i],stackArr[i].shape[0]-1,0) \n",
    "            else:\n",
    "                while(stackArr[i].shape[0] > 721):\n",
    "                    stackArr[i] = np.delete(stackArr[i],stackArr[i].shape[0]-1,0)\n",
    "                    stackArr[i] = np.delete(stackArr[i],0,0)     \n",
    "                stackArr[i] = stackArr[i] = np.delete(stackArr[i],stackArr[i].shape[0]-1,0) \n",
    "        if(stackArr[i].shape[1] > 720 and stackArr[i].shape[1] % 2 != 0):\n",
    "            if(stackArr[i].shape[1] == 721):\n",
    "                stackArr[i] = stackArr[i] = np.delete(stackArr[i],stackArr[i].shape[1]-1,1) \n",
    "            else:\n",
    "                while(stackArr[i].shape[1] > 721):\n",
    "                    stackArr[i] = np.delete(stackArr[i],stackArr[i].shape[1]-1,1)\n",
    "                    stackArr[i] = np.delete(stackArr[i],0,1)\n",
    "                stackArr[i] = stackArr[i] = np.delete(stackArr[i],stackArr[i].shape[1]-1,1) \n",
    "    i+=1"
   ]
  },
  {
   "cell_type": "code",
   "execution_count": null,
   "metadata": {},
   "outputs": [],
   "source": []
  },
  {
   "cell_type": "code",
   "execution_count": 28,
   "metadata": {},
   "outputs": [],
   "source": [
    "# array for just 720x720\n",
    "sevenTwenty = []\n",
    "# array for indeces\n",
    "indexArr = []"
   ]
  },
  {
   "cell_type": "code",
   "execution_count": 29,
   "metadata": {},
   "outputs": [],
   "source": [
    "i = 0\n",
    "while i < len(stackArr):\n",
    "    if(stackArr[i].shape == (720,720)):\n",
    "        sevenTwenty.append(stackArr[i])\n",
    "        indexArr.append(0+i)\n",
    "    i+=1\n",
    "len(sevenTwenty)"
   ]
  },
  {
   "cell_type": "code",
   "execution_count": 35,
   "metadata": {},
   "outputs": [],
   "source": [
    "i = 0\n",
    "while i < len(sevenTwenty):\n",
    "    cent_em = np.sum(central_emission(sevenTwenty[i], int(100), pixel_size.to(u.arcmin).value, 1.0))\n",
    "    back_em = np.median(background_emission(sevenTwenty[i], int(100), pixel_size.to(u.arcmin).value, 1.0, True)[1])\n",
    "    thisdict = dict('name': mdcwName[indexArr[i]],'source flux': cent_em,'background flux': back_em)\n",
    "    i+=1"
   ]
  },
  {
   "cell_type": "code",
   "execution_count": 124,
   "metadata": {},
   "outputs": [],
   "source": [
    "pickle.dump(dictionary, open(path+\"mooEmissionCatalog.pickle\",\"wb\"))"
   ]
  },
  {
   "cell_type": "code",
   "execution_count": 37,
   "metadata": {},
   "outputs": [],
   "source": [
    "done = pickle.load(open(path+\"mooEmissionCatalog.pickle\",\"rb\"))"
   ]
  },
  {
   "cell_type": "code",
   "execution_count": 40,
   "metadata": {},
   "outputs": [
    {
     "name": "stdout",
     "output_type": "stream",
     "text": [
      "{'MOO J0001+1428': [-8.8941675e-08, 6.816236e-08]}\n"
     ]
    }
   ],
   "source": [
    "print(done[0])"
   ]
  },
  {
   "cell_type": "code",
   "execution_count": null,
   "metadata": {},
   "outputs": [],
   "source": []
  },
  {
   "cell_type": "code",
   "execution_count": null,
   "metadata": {},
   "outputs": [],
   "source": []
  },
  {
   "cell_type": "code",
   "execution_count": null,
   "metadata": {},
   "outputs": [],
   "source": []
  },
  {
   "cell_type": "code",
   "execution_count": null,
   "metadata": {},
   "outputs": [],
   "source": []
  },
  {
   "cell_type": "code",
   "execution_count": null,
   "metadata": {},
   "outputs": [],
   "source": []
  },
  {
   "cell_type": "code",
   "execution_count": null,
   "metadata": {},
   "outputs": [],
   "source": []
  },
  {
   "cell_type": "code",
   "execution_count": null,
   "metadata": {},
   "outputs": [],
   "source": [
    "# ignore the rest"
   ]
  },
  {
   "cell_type": "code",
   "execution_count": null,
   "metadata": {},
   "outputs": [],
   "source": []
  },
  {
   "cell_type": "code",
   "execution_count": 198,
   "metadata": {},
   "outputs": [],
   "source": [
    "i = 0\n",
    "dictionary = []\n",
    "while i < len(txtArr):\n",
    "    a = {txtArr[i][0:14]:float(txtArr[i][16:])}\n",
    "    dictionary.append(a)\n",
    "    i+=1"
   ]
  },
  {
   "cell_type": "code",
   "execution_count": 199,
   "metadata": {
    "scrolled": true
   },
   "outputs": [],
   "source": [
    "textArr = np.array(dictionary)\n",
    "a_file = open(\"/home/alex/Downloads/madcowsCentralFlux.txt\",\"w\")\n",
    "np.savetxt(a_file, textArr,fmt='%s',newline = ',\\n')\n",
    "\n",
    "a_file.close()"
   ]
  },
  {
   "cell_type": "code",
   "execution_count": null,
   "metadata": {},
   "outputs": [],
   "source": []
  },
  {
   "cell_type": "code",
   "execution_count": 7,
   "metadata": {},
   "outputs": [],
   "source": []
  },
  {
   "cell_type": "code",
   "execution_count": 8,
   "metadata": {},
   "outputs": [],
   "source": [
    "# define stacker\n",
    "def s18dStack(ras, decs, width = 20., weight = False):\n",
    "    stack = 0\n",
    "    divisor = 0\n",
    "    count = 0\n",
    "\n",
    "    while(divisor < len(stackArr)):\n",
    "        if len(stackArr[divisor]) == 720 and len(stackArr[divisor][0]) == 720:\n",
    "            stack += stackArr[divisor]\n",
    "            count +=1\n",
    "        divisor += 1\n",
    "\n",
    "    print(\"Number in stack: {}\".format(count))\n",
    "    return stack, count"
   ]
  },
  {
   "cell_type": "code",
   "execution_count": 9,
   "metadata": {},
   "outputs": [],
   "source": [
    "# extent in arcmin for plot axes\n",
    "w1 = -720*pixel_size.to(u.arcmin)/2\n",
    "x1 = 720*pixel_size.to(u.arcmin)/2\n",
    "y1 = -720*pixel_size.to(u.arcmin)/2\n",
    "z1 = 720*pixel_size.to(u.arcmin)/2"
   ]
  },
  {
   "cell_type": "code",
   "execution_count": 10,
   "metadata": {},
   "outputs": [
    {
     "name": "stdout",
     "output_type": "stream",
     "text": [
      "Number in stack: 1652\n"
     ]
    },
    {
     "data": {
      "image/png": "[encoded data removed]",
      "text/plain": [
       "<Figure size 432x288 with 2 Axes>"
      ]
     },
     "metadata": {
      "needs_background": "light"
     },
     "output_type": "display_data"
    }
   ],
   "source": [
    "# stacker\n",
    "s18d_stack, stack_num = s18dStack(mdcwRA, mdcwDec)\n",
    "\n",
    "out, cen, cen_d, out_d = 0,0,0,0\n",
    "\n",
    "#plot stack\n",
    "plot = plt.imshow(s18d_stack, extent = [w1.value,x1.value,y1.value,z1.value])\n",
    "plt.scatter(0,0, marker = '+', color = 'r')\n",
    "plt.colorbar(plot, format='%.0e')\n",
    "plt.title(\"VLASS Stack on 720x720 MaDCoWS Clusters\\n Total in Stack: {}\".format(stack_num))\n",
    "#plt.savefig(\"vlass_stacks_on_mdcws.pdf\")\n",
    "plt.show()\n",
    "plt.close()"
   ]
  },
  {
   "cell_type": "code",
   "execution_count": 11,
   "metadata": {
    "scrolled": true
   },
   "outputs": [],
   "source": [
    "# give units back to vmap\n",
    "vmap = s18d_stack*(u.Jy/u.beam)\n",
    "\n",
    "#Convert from Jy/beam to Jy/pixel\n",
    "conv_factor = (np.pi*(2.5/2)**2/np.log(2))*(u.pix/u.beam)\n",
    "vmap = (vmap/conv_factor)\n",
    "\n",
    "#Smoothing map\n",
    "filt_scale = 1*u.arcmin\n",
    "beam_fwhm = 2.5*u.arcsec\n",
    "smooth_scale = np.sqrt(filt_scale**2-beam_fwhm.to(u.arcmin)**2)\n",
    "\n",
    "filt_pix = np.round(smooth_scale/pixel_size.to(u.arcmin))\n",
    "kernel = Gaussian2DKernel(x_stddev =  filt_pix)\n",
    "\n",
    "hdata = convolve(vmap, kernel) * (u.Jy/u.pix)"
   ]
  },
  {
   "cell_type": "code",
   "execution_count": 12,
   "metadata": {},
   "outputs": [],
   "source": [
    "# saving stacked array as text file\n",
    "# np.savetxt('/home/alex/Downloads/stackedSmoothedVLASSdata', hdata.value)\n",
    "# b = np.loadtxt('/home/alex/Downloads/stackedSmoothedVLASSdata')\n",
    "# plt.imshow(b)"
   ]
  },
  {
   "cell_type": "code",
   "execution_count": 13,
   "metadata": {
    "scrolled": true
   },
   "outputs": [
    {
     "ename": "AttributeError",
     "evalue": "'Quantity' object has no 'get_array' member",
     "output_type": "error",
     "traceback": [
      "\u001b[0;31m---------------------------------------------------------------------------\u001b[0m",
      "\u001b[0;31mAttributeError\u001b[0m                            Traceback (most recent call last)",
      "\u001b[0;32m<ipython-input-13-02f59ced6809>\u001b[0m in \u001b[0;36m<module>\u001b[0;34m\u001b[0m\n\u001b[1;32m      2\u001b[0m \u001b[0mplt\u001b[0m\u001b[0;34m.\u001b[0m\u001b[0mtitle\u001b[0m\u001b[0;34m(\u001b[0m\u001b[0;34m\"VLASS Stack on MaDCoWS Clusters\\n Total in Stack: {}\"\u001b[0m\u001b[0;34m.\u001b[0m\u001b[0mformat\u001b[0m\u001b[0;34m(\u001b[0m\u001b[0mstack_num\u001b[0m\u001b[0;34m)\u001b[0m\u001b[0;34m)\u001b[0m\u001b[0;34m\u001b[0m\u001b[0;34m\u001b[0m\u001b[0m\n\u001b[1;32m      3\u001b[0m \u001b[0mplt\u001b[0m\u001b[0;34m.\u001b[0m\u001b[0mscatter\u001b[0m\u001b[0;34m(\u001b[0m\u001b[0;36m0\u001b[0m\u001b[0;34m,\u001b[0m\u001b[0;36m0\u001b[0m\u001b[0;34m,\u001b[0m \u001b[0mmarker\u001b[0m \u001b[0;34m=\u001b[0m \u001b[0;34m'+'\u001b[0m\u001b[0;34m,\u001b[0m \u001b[0mcolor\u001b[0m \u001b[0;34m=\u001b[0m \u001b[0;34m'r'\u001b[0m\u001b[0;34m)\u001b[0m\u001b[0;34m\u001b[0m\u001b[0;34m\u001b[0m\u001b[0m\n\u001b[0;32m----> 4\u001b[0;31m \u001b[0mplt\u001b[0m\u001b[0;34m.\u001b[0m\u001b[0mcolorbar\u001b[0m\u001b[0;34m(\u001b[0m\u001b[0mhdata\u001b[0m\u001b[0;34m)\u001b[0m\u001b[0;34m\u001b[0m\u001b[0;34m\u001b[0m\u001b[0m\n\u001b[0m\u001b[1;32m      5\u001b[0m \u001b[0mplt\u001b[0m\u001b[0;34m.\u001b[0m\u001b[0mimshow\u001b[0m\u001b[0;34m(\u001b[0m\u001b[0mhdata\u001b[0m\u001b[0;34m,\u001b[0m \u001b[0mextent\u001b[0m \u001b[0;34m=\u001b[0m \u001b[0;34m[\u001b[0m\u001b[0mw1\u001b[0m\u001b[0;34m.\u001b[0m\u001b[0mvalue\u001b[0m\u001b[0;34m,\u001b[0m\u001b[0mx1\u001b[0m\u001b[0;34m.\u001b[0m\u001b[0mvalue\u001b[0m\u001b[0;34m,\u001b[0m\u001b[0my1\u001b[0m\u001b[0;34m.\u001b[0m\u001b[0mvalue\u001b[0m\u001b[0;34m,\u001b[0m\u001b[0mz1\u001b[0m\u001b[0;34m.\u001b[0m\u001b[0mvalue\u001b[0m\u001b[0;34m]\u001b[0m\u001b[0;34m)\u001b[0m\u001b[0;34m\u001b[0m\u001b[0;34m\u001b[0m\u001b[0m\n\u001b[1;32m      6\u001b[0m \u001b[0;31m#plt.savefig(\"/home/alex/Downloads/vlassStackOnMadcows.pdf\",bbox_inches='tight')\u001b[0m\u001b[0;34m\u001b[0m\u001b[0;34m\u001b[0m\u001b[0;34m\u001b[0m\u001b[0m\n",
      "\u001b[0;32m~/my_project_dir/my_project_env/lib/python3.8/site-packages/matplotlib/pyplot.py\u001b[0m in \u001b[0;36mcolorbar\u001b[0;34m(mappable, cax, ax, **kw)\u001b[0m\n\u001b[1;32m   2007\u001b[0m     \u001b[0;32mif\u001b[0m \u001b[0max\u001b[0m \u001b[0;32mis\u001b[0m \u001b[0;32mNone\u001b[0m\u001b[0;34m:\u001b[0m\u001b[0;34m\u001b[0m\u001b[0;34m\u001b[0m\u001b[0m\n\u001b[1;32m   2008\u001b[0m         \u001b[0max\u001b[0m \u001b[0;34m=\u001b[0m \u001b[0mgca\u001b[0m\u001b[0;34m(\u001b[0m\u001b[0;34m)\u001b[0m\u001b[0;34m\u001b[0m\u001b[0;34m\u001b[0m\u001b[0m\n\u001b[0;32m-> 2009\u001b[0;31m     \u001b[0mret\u001b[0m \u001b[0;34m=\u001b[0m \u001b[0mgcf\u001b[0m\u001b[0;34m(\u001b[0m\u001b[0;34m)\u001b[0m\u001b[0;34m.\u001b[0m\u001b[0mcolorbar\u001b[0m\u001b[0;34m(\u001b[0m\u001b[0mmappable\u001b[0m\u001b[0;34m,\u001b[0m \u001b[0mcax\u001b[0m\u001b[0;34m=\u001b[0m\u001b[0mcax\u001b[0m\u001b[0;34m,\u001b[0m \u001b[0max\u001b[0m\u001b[0;34m=\u001b[0m\u001b[0max\u001b[0m\u001b[0;34m,\u001b[0m \u001b[0;34m**\u001b[0m\u001b[0mkw\u001b[0m\u001b[0;34m)\u001b[0m\u001b[0;34m\u001b[0m\u001b[0;34m\u001b[0m\u001b[0m\n\u001b[0m\u001b[1;32m   2010\u001b[0m     \u001b[0;32mreturn\u001b[0m \u001b[0mret\u001b[0m\u001b[0;34m\u001b[0m\u001b[0;34m\u001b[0m\u001b[0m\n\u001b[1;32m   2011\u001b[0m \u001b[0mcolorbar\u001b[0m\u001b[0;34m.\u001b[0m\u001b[0m__doc__\u001b[0m \u001b[0;34m=\u001b[0m \u001b[0mmatplotlib\u001b[0m\u001b[0;34m.\u001b[0m\u001b[0mcolorbar\u001b[0m\u001b[0;34m.\u001b[0m\u001b[0mcolorbar_doc\u001b[0m\u001b[0;34m\u001b[0m\u001b[0;34m\u001b[0m\u001b[0m\n",
      "\u001b[0;32m~/my_project_dir/my_project_env/lib/python3.8/site-packages/matplotlib/figure.py\u001b[0m in \u001b[0;36mcolorbar\u001b[0;34m(self, mappable, cax, ax, use_gridspec, **kw)\u001b[0m\n\u001b[1;32m   2236\u001b[0m                              'panchor']\n\u001b[1;32m   2237\u001b[0m         \u001b[0mcb_kw\u001b[0m \u001b[0;34m=\u001b[0m \u001b[0;34m{\u001b[0m\u001b[0mk\u001b[0m\u001b[0;34m:\u001b[0m \u001b[0mv\u001b[0m \u001b[0;32mfor\u001b[0m \u001b[0mk\u001b[0m\u001b[0;34m,\u001b[0m \u001b[0mv\u001b[0m \u001b[0;32min\u001b[0m \u001b[0mkw\u001b[0m\u001b[0;34m.\u001b[0m\u001b[0mitems\u001b[0m\u001b[0;34m(\u001b[0m\u001b[0;34m)\u001b[0m \u001b[0;32mif\u001b[0m \u001b[0mk\u001b[0m \u001b[0;32mnot\u001b[0m \u001b[0;32min\u001b[0m \u001b[0mNON_COLORBAR_KEYS\u001b[0m\u001b[0;34m}\u001b[0m\u001b[0;34m\u001b[0m\u001b[0;34m\u001b[0m\u001b[0m\n\u001b[0;32m-> 2238\u001b[0;31m         \u001b[0mcb\u001b[0m \u001b[0;34m=\u001b[0m \u001b[0mcbar\u001b[0m\u001b[0;34m.\u001b[0m\u001b[0mcolorbar_factory\u001b[0m\u001b[0;34m(\u001b[0m\u001b[0mcax\u001b[0m\u001b[0;34m,\u001b[0m \u001b[0mmappable\u001b[0m\u001b[0;34m,\u001b[0m \u001b[0;34m**\u001b[0m\u001b[0mcb_kw\u001b[0m\u001b[0;34m)\u001b[0m\u001b[0;34m\u001b[0m\u001b[0;34m\u001b[0m\u001b[0m\n\u001b[0m\u001b[1;32m   2239\u001b[0m \u001b[0;34m\u001b[0m\u001b[0m\n\u001b[1;32m   2240\u001b[0m         \u001b[0mself\u001b[0m\u001b[0;34m.\u001b[0m\u001b[0msca\u001b[0m\u001b[0;34m(\u001b[0m\u001b[0mcurrent_ax\u001b[0m\u001b[0;34m)\u001b[0m\u001b[0;34m\u001b[0m\u001b[0;34m\u001b[0m\u001b[0m\n",
      "\u001b[0;32m~/my_project_dir/my_project_env/lib/python3.8/site-packages/matplotlib/colorbar.py\u001b[0m in \u001b[0;36mcolorbar_factory\u001b[0;34m(cax, mappable, **kwargs)\u001b[0m\n\u001b[1;32m   1683\u001b[0m         \u001b[0mcb\u001b[0m \u001b[0;34m=\u001b[0m \u001b[0mColorbarPatch\u001b[0m\u001b[0;34m(\u001b[0m\u001b[0mcax\u001b[0m\u001b[0;34m,\u001b[0m \u001b[0mmappable\u001b[0m\u001b[0;34m,\u001b[0m \u001b[0;34m**\u001b[0m\u001b[0mkwargs\u001b[0m\u001b[0;34m)\u001b[0m\u001b[0;34m\u001b[0m\u001b[0;34m\u001b[0m\u001b[0m\n\u001b[1;32m   1684\u001b[0m     \u001b[0;32melse\u001b[0m\u001b[0;34m:\u001b[0m\u001b[0;34m\u001b[0m\u001b[0;34m\u001b[0m\u001b[0m\n\u001b[0;32m-> 1685\u001b[0;31m         \u001b[0mcb\u001b[0m \u001b[0;34m=\u001b[0m \u001b[0mColorbar\u001b[0m\u001b[0;34m(\u001b[0m\u001b[0mcax\u001b[0m\u001b[0;34m,\u001b[0m \u001b[0mmappable\u001b[0m\u001b[0;34m,\u001b[0m \u001b[0;34m**\u001b[0m\u001b[0mkwargs\u001b[0m\u001b[0;34m)\u001b[0m\u001b[0;34m\u001b[0m\u001b[0;34m\u001b[0m\u001b[0m\n\u001b[0m\u001b[1;32m   1686\u001b[0m \u001b[0;34m\u001b[0m\u001b[0m\n\u001b[1;32m   1687\u001b[0m     \u001b[0mcid\u001b[0m \u001b[0;34m=\u001b[0m \u001b[0mmappable\u001b[0m\u001b[0;34m.\u001b[0m\u001b[0mcallbacksSM\u001b[0m\u001b[0;34m.\u001b[0m\u001b[0mconnect\u001b[0m\u001b[0;34m(\u001b[0m\u001b[0;34m'changed'\u001b[0m\u001b[0;34m,\u001b[0m \u001b[0mcb\u001b[0m\u001b[0;34m.\u001b[0m\u001b[0mon_mappable_changed\u001b[0m\u001b[0;34m)\u001b[0m\u001b[0;34m\u001b[0m\u001b[0;34m\u001b[0m\u001b[0m\n",
      "\u001b[0;32m~/my_project_dir/my_project_env/lib/python3.8/site-packages/matplotlib/colorbar.py\u001b[0m in \u001b[0;36m__init__\u001b[0;34m(self, ax, mappable, **kw)\u001b[0m\n\u001b[1;32m   1203\u001b[0m         \u001b[0;31m# Ensure the given mappable's norm has appropriate vmin and vmax set\u001b[0m\u001b[0;34m\u001b[0m\u001b[0;34m\u001b[0m\u001b[0;34m\u001b[0m\u001b[0m\n\u001b[1;32m   1204\u001b[0m         \u001b[0;31m# even if mappable.draw has not yet been called.\u001b[0m\u001b[0;34m\u001b[0m\u001b[0;34m\u001b[0m\u001b[0;34m\u001b[0m\u001b[0m\n\u001b[0;32m-> 1205\u001b[0;31m         \u001b[0;32mif\u001b[0m \u001b[0mmappable\u001b[0m\u001b[0;34m.\u001b[0m\u001b[0mget_array\u001b[0m\u001b[0;34m(\u001b[0m\u001b[0;34m)\u001b[0m \u001b[0;32mis\u001b[0m \u001b[0;32mnot\u001b[0m \u001b[0;32mNone\u001b[0m\u001b[0;34m:\u001b[0m\u001b[0;34m\u001b[0m\u001b[0;34m\u001b[0m\u001b[0m\n\u001b[0m\u001b[1;32m   1206\u001b[0m             \u001b[0mmappable\u001b[0m\u001b[0;34m.\u001b[0m\u001b[0mautoscale_None\u001b[0m\u001b[0;34m(\u001b[0m\u001b[0;34m)\u001b[0m\u001b[0;34m\u001b[0m\u001b[0;34m\u001b[0m\u001b[0m\n\u001b[1;32m   1207\u001b[0m \u001b[0;34m\u001b[0m\u001b[0m\n",
      "\u001b[0;32m~/my_project_dir/my_project_env/lib/python3.8/site-packages/astropy/units/quantity.py\u001b[0m in \u001b[0;36m__getattr__\u001b[0;34m(self, attr)\u001b[0m\n\u001b[1;32m    826\u001b[0m         \"\"\"\n\u001b[1;32m    827\u001b[0m         \u001b[0;32mif\u001b[0m \u001b[0;32mnot\u001b[0m \u001b[0mself\u001b[0m\u001b[0;34m.\u001b[0m\u001b[0m_include_easy_conversion_members\u001b[0m\u001b[0;34m:\u001b[0m\u001b[0;34m\u001b[0m\u001b[0;34m\u001b[0m\u001b[0m\n\u001b[0;32m--> 828\u001b[0;31m             raise AttributeError(\n\u001b[0m\u001b[1;32m    829\u001b[0m                 \"'{}' object has no '{}' member\".format(\n\u001b[1;32m    830\u001b[0m                     \u001b[0mself\u001b[0m\u001b[0;34m.\u001b[0m\u001b[0m__class__\u001b[0m\u001b[0;34m.\u001b[0m\u001b[0m__name__\u001b[0m\u001b[0;34m,\u001b[0m\u001b[0;34m\u001b[0m\u001b[0;34m\u001b[0m\u001b[0m\n",
      "\u001b[0;31mAttributeError\u001b[0m: 'Quantity' object has no 'get_array' member"
     ]
    },
    {
     "data": {
      "image/png": "[encoded data removed]",
      "text/plain": [
       "<Figure size 432x288 with 2 Axes>"
      ]
     },
     "metadata": {
      "needs_background": "light"
     },
     "output_type": "display_data"
    }
   ],
   "source": [
    "# plot smoothed stack\n",
    "plt.title(\"VLASS Stack on MaDCoWS Clusters\\n Total in Stack: {}\".format(stack_num))\n",
    "plt.scatter(0,0, marker = '+', color = 'r')\n",
    "plt.colorbar(hdata)\n",
    "plt.imshow(hdata, extent = [w1.value,x1.value,y1.value,z1.value])\n",
    "#plt.savefig(\"/home/alex/Downloads/vlassStackOnMadcows.pdf\",bbox_inches='tight')"
   ]
  },
  {
   "cell_type": "code",
   "execution_count": null,
   "metadata": {},
   "outputs": [],
   "source": []
  },
  {
   "cell_type": "code",
   "execution_count": 8,
   "metadata": {},
   "outputs": [],
   "source": [
    "# histogram"
   ]
  },
  {
   "cell_type": "code",
   "execution_count": 20,
   "metadata": {},
   "outputs": [],
   "source": [
    "emissionStack = []"
   ]
  },
  {
   "cell_type": "code",
   "execution_count": 18,
   "metadata": {},
   "outputs": [],
   "source": [
    "# fill emission stack with flux values for histogram\n",
    "# emissionStack = []\n",
    "i = 0\n",
    "while i < len(stackArr):\n",
    "    try:\n",
    "        cent_em = central_emission(stackArr[i], int(100), pixel_size.to(u.arcmin).value, 1.0)\n",
    "        emissionStack.append(np.sum(cent_em))\n",
    "    except:\n",
    "        pass\n",
    "    i+=1"
   ]
  },
  {
   "cell_type": "code",
   "execution_count": 19,
   "metadata": {},
   "outputs": [
    {
     "data": {
      "text/plain": [
       "1378"
      ]
     },
     "execution_count": 19,
     "metadata": {},
     "output_type": "execute_result"
    }
   ],
   "source": [
    "len(emissionStack)"
   ]
  },
  {
   "cell_type": "code",
   "execution_count": 47,
   "metadata": {},
   "outputs": [],
   "source": [
    "emissionStackArr = np.array(emissionStack)\n",
    "a_file = open(\"/home/alex/Downloads/test.txt\",\"w\")\n",
    "np.savetxt(a_file, emissionStackArr)\n",
    "\n",
    "a_file.close()"
   ]
  },
  {
   "cell_type": "code",
   "execution_count": 15,
   "metadata": {},
   "outputs": [],
   "source": [
    "# fill values for histStack ... cut out values below VLASS noise floor\n",
    "histStack = []\n",
    "i = 0\n",
    "while i < len(emissionStack):\n",
    "    if(emissionStack[i] > 6.9E-5):#combined (3 epoch) sensitivity 69microJy RMS\n",
    "        histStack.append(emissionStack[i])\n",
    "    i+=1"
   ]
  },
  {
   "cell_type": "code",
   "execution_count": 18,
   "metadata": {},
   "outputs": [
    {
     "ename": "NameError",
     "evalue": "name 'histStack' is not defined",
     "output_type": "error",
     "traceback": [
      "\u001b[0;31m---------------------------------------------------------------------------\u001b[0m",
      "\u001b[0;31mNameError\u001b[0m                                 Traceback (most recent call last)",
      "\u001b[0;32m<ipython-input-18-40e2635d070d>\u001b[0m in \u001b[0;36m<module>\u001b[0;34m\u001b[0m\n\u001b[0;32m----> 1\u001b[0;31m \u001b[0mlen\u001b[0m\u001b[0;34m(\u001b[0m\u001b[0mhistStack\u001b[0m\u001b[0;34m)\u001b[0m\u001b[0;34m\u001b[0m\u001b[0;34m\u001b[0m\u001b[0m\n\u001b[0m",
      "\u001b[0;31mNameError\u001b[0m: name 'histStack' is not defined"
     ]
    }
   ],
   "source": [
    "len(histStack)"
   ]
  },
  {
   "cell_type": "code",
   "execution_count": 17,
   "metadata": {},
   "outputs": [
    {
     "data": {
      "image/png": "[encoded data removed]",
      "text/plain": [
       "<Figure size 432x288 with 1 Axes>"
      ]
     },
     "metadata": {
      "needs_background": "light"
     },
     "output_type": "display_data"
    }
   ],
   "source": [
    "plt.hist(histStack,bins=60,align='right',edgecolor='black',color='red')\n",
    "plt.xlabel('Flux [Jy]')\n",
    "plt.ylabel('Cluster Count')\n",
    "plt.yscale('log')\n",
    "plt.title('Central Flux at MaDCoWS Cluster Locations \\n Number of clusters: ' + str(len(histStack)))\n",
    "plt.savefig(\"/home/alex/Downloads/madcowsHistogram.pdf\",bbox_inches='tight')\n",
    "plt.show()"
   ]
  },
  {
   "cell_type": "code",
   "execution_count": 19,
   "metadata": {},
   "outputs": [
    {
     "data": {
      "text/plain": [
       "1230"
      ]
     },
     "execution_count": 19,
     "metadata": {},
     "output_type": "execute_result"
    }
   ],
   "source": [
    "len(histStack)"
   ]
  },
  {
   "cell_type": "code",
   "execution_count": 18,
   "metadata": {},
   "outputs": [],
   "source": [
    "# pick out central emission >300mJy\n",
    "i = 0\n",
    "while i < len(histStack):\n",
    "    if(histStack[i] > .3):\n",
    "        print(str(i))\n",
    "    i+=1"
   ]
  },
  {
   "cell_type": "code",
   "execution_count": null,
   "metadata": {},
   "outputs": [],
   "source": []
  },
  {
   "cell_type": "code",
   "execution_count": null,
   "metadata": {},
   "outputs": [],
   "source": [
    "# central emission #hdata\n",
    "# cent_em = central_emission(stackArr[0], int(100), pixel_size.to(u.arcmin).value, 1.0)\n",
    "# print(np.mean(cent_em), np.std(cent_em))\n",
    "# print(np.mean(hdata), np.std(hdata))"
   ]
  },
  {
   "cell_type": "code",
   "execution_count": 8,
   "metadata": {},
   "outputs": [],
   "source": [
    "# emissionStack = []"
   ]
  },
  {
   "cell_type": "code",
   "execution_count": 6,
   "metadata": {},
   "outputs": [],
   "source": [
    "# i = 0\n",
    "# while i < len(stackArr):\n",
    "#     if(stackArr[i].shape == (720,720)):\n",
    "#         cent_em = central_emission(stackArr[i], int(100), pixel_size.to(u.arcmin).value, 1.0)\n",
    "#         emissionStack.append(np.sum(cent_em))\n",
    "#     i+=1"
   ]
  },
  {
   "cell_type": "code",
   "execution_count": 7,
   "metadata": {},
   "outputs": [],
   "source": [
    "# len(emissionStack)"
   ]
  },
  {
   "cell_type": "code",
   "execution_count": 8,
   "metadata": {},
   "outputs": [],
   "source": [
    "# i = 0\n",
    "# histStack = []\n",
    "# while i < len(emissionStack):\n",
    "#     if(emissionStack[i] > .0025):\n",
    "#         histStack.append(emissionStack[i])\n",
    "#     i+=1"
   ]
  },
  {
   "cell_type": "code",
   "execution_count": 9,
   "metadata": {},
   "outputs": [],
   "source": [
    "# len(histStack)"
   ]
  },
  {
   "cell_type": "code",
   "execution_count": 10,
   "metadata": {},
   "outputs": [],
   "source": [
    "# plt.hist(histStack,bins=60,align='right',edgecolor='black',color='red')\n",
    "# plt.xlabel('Flux [Jy]')\n",
    "# plt.ylabel('Cluster Count')\n",
    "# plt.yscale('log')\n",
    "# plt.title('Central Flux at MaDCoWS Cluster Locations \\n Number of clusters: ' + str(len(histStack)))\n",
    "# plt.savefig(\"/home/alex/Downloads/madcowsHistogram.pdf\",bbox_inches='tight')\n",
    "# plt.show()"
   ]
  },
  {
   "cell_type": "code",
   "execution_count": null,
   "metadata": {},
   "outputs": [],
   "source": []
  },
  {
   "cell_type": "code",
   "execution_count": null,
   "metadata": {},
   "outputs": [],
   "source": [
    "# the rest are just notes"
   ]
  },
  {
   "cell_type": "code",
   "execution_count": 27,
   "metadata": {},
   "outputs": [],
   "source": [
    "# pixel_area = (pixel_size**2).to(u.sr)\n",
    "\n",
    "# print(pixel_area)"
   ]
  },
  {
   "cell_type": "code",
   "execution_count": 28,
   "metadata": {},
   "outputs": [],
   "source": [
    "# vmap = vmap*pixel_area\n",
    "# print(vmap[0,0])"
   ]
  },
  {
   "cell_type": "code",
   "execution_count": 29,
   "metadata": {},
   "outputs": [],
   "source": [
    "# print(vmap)\n",
    "# stamp = Cutout2D(vmap, (int(723/2),int(724/2)), 200. , mode = 'strict')\n",
    "\n",
    "# fig, axes = plt.subplots()\n",
    "\n",
    "# plt.imshow(stamp.data.value)\n",
    "# draw_circle = plt.Circle((100, 100), 50, color = 'r',fill=False, alpha = 0.5)\n",
    "\n",
    "# plt.colorbar()\n",
    "\n",
    "# axes.set_aspect(1)\n",
    "# axes.add_artist(draw_circle)"
   ]
  },
  {
   "cell_type": "code",
   "execution_count": 30,
   "metadata": {
    "scrolled": true
   },
   "outputs": [],
   "source": [
    "# fwhm = 6*u.arcsec\n",
    "# omega_B = np.pi * (fwhm/2)**2/np.log(2)\n",
    "# print((vmap*u.Jy/u.beam).to(u.MJy/u.sr,equivalencies=u.beam_angular_area(omega_B)))"
   ]
  },
  {
   "cell_type": "code",
   "execution_count": 31,
   "metadata": {},
   "outputs": [],
   "source": [
    "# vmap = vmap*pixel_area\n",
    "# print(vmap[0,0])"
   ]
  },
  {
   "cell_type": "code",
   "execution_count": 32,
   "metadata": {},
   "outputs": [],
   "source": [
    "# cent_em = central_emission(vmap, int(100),pixel_size.to(u.arcmin).value,1.0)\n",
    "\n",
    "# aperture_area = np.pi*(1.0*u.arcmin)**2\n",
    "# average_flux = cent_em[0]/aperture_area\n",
    "\n",
    "# print(average_flux.to(u.MJy/u.sr))\n",
    "\n",
    "# map_var_Jy = np.std(vmap[150:199, 0:199])/pixel_area.unit\n",
    "# map_var = (map_car_Jy).to(u.MJy/u.sr)\n",
    "# print(map_var)"
   ]
  },
  {
   "cell_type": "code",
   "execution_count": null,
   "metadata": {},
   "outputs": [],
   "source": []
  },
  {
   "cell_type": "code",
   "execution_count": null,
   "metadata": {},
   "outputs": [],
   "source": [
    "# how to read text files I sent to Jack"
   ]
  },
  {
   "cell_type": "code",
   "execution_count": 76,
   "metadata": {},
   "outputs": [],
   "source": [
    "# path = \"/home/alex/Downloads/\"\n",
    "\n",
    "# mooFile = open(path + \"madcowsCentralFlux.txt\",'r')\n",
    "# mooLines = mooFile.readlines()\n",
    "\n",
    "# actFile = open(path + \"actCentralFlux.txt\",'r')\n",
    "# actLines = actFile.readlines()\n",
    "\n",
    "# mooNameArr = [] # moo names stored here\n",
    "# mooFluxArr = [] # moo fluxes stored here\n",
    "# for line in mooLines:\n",
    "#     mooNameArr.append(line.strip()[2:15])\n",
    "#     mooFluxArr.append(float(line.strip()[18:len(line.strip())-2]))\n",
    "\n",
    "# actNameArr = [] # act names stored here\n",
    "# actFluxArr = [] # act fluxes stored here\n",
    "# for line in actLines:\n",
    "#     actNameArr.append(line.strip()[2:20])\n",
    "#     actFluxArr.append(float(line.strip()[23:len(line.strip())-2]))"
   ]
  },
  {
   "cell_type": "code",
   "execution_count": null,
   "metadata": {},
   "outputs": [],
   "source": []
  },
  {
   "cell_type": "code",
   "execution_count": null,
   "metadata": {},
   "outputs": [],
   "source": [
    "# old central emission\n",
    "# def central_emission(hmap, map_w, pixel_w, max_sep):\n",
    "#     #Returns the average surface brightness in Jy/pixel of pixels within max_sep \n",
    "#     # of the center of hmap (assuming hmap has units MJy/pixel)\n",
    "#     center = map_w + 0.5\n",
    "#     emission = 0\n",
    "#     div = 0\n",
    "#     hist = []\n",
    "#     for i in range(2*map_w):\n",
    "#         for j in range(2*map_w):\n",
    "#             if pixel_w*np.sqrt((center-i)**2+(center-j)**2) <= max_sep:\n",
    "#                 hist.append(hmap[i,j])\n",
    "#                 div +=1\n",
    "#     return  np.array(hist)"
   ]
  },
  {
   "cell_type": "code",
   "execution_count": null,
   "metadata": {},
   "outputs": [],
   "source": [
    "#old attempt at naming central emission clusters"
   ]
  },
  {
   "cell_type": "code",
   "execution_count": null,
   "metadata": {},
   "outputs": [],
   "source": [
    "# nameArr = []\n",
    "# j = 0\n",
    "# while j < 2603:\n",
    "    \n",
    "#     if(j == 1059 or j == 2544):\n",
    "#         hdu = fits.open('/home/alex/Downloads/moo/'+mdcwName[j])\n",
    "#         header = hdu[0].header\n",
    "#         obsRA = header.get('OBSRA')\n",
    "#         obsDec = header.get('OBSDEC')\n",
    "\n",
    "#         done = False\n",
    "#         sep = .8\n",
    "#         while(done == False):\n",
    "#             i = 0\n",
    "#             num = []\n",
    "#             while i < len(mdcwName):\n",
    "#                 if(mdcwRA[i] < obsRA+sep and mdcwRA[i] > obsRA-sep and mdcwDec[i] < obsDec+sep and mdcwDec[i] > obsDec-sep):\n",
    "#                     #print(\"real one is \" + str(obsRA) + \" \" + str(obsDec))\n",
    "#                     #print(mdcwRA[i], mdcwDec[i])\n",
    "#                     num.append(i)\n",
    "#                 i+=1\n",
    "#             if(len(num) == 1):\n",
    "#                 done = True\n",
    "#             elif(len(num) == 0):\n",
    "#                 sep +=.0001\n",
    "#             else:\n",
    "#                 sep -=.0001\n",
    "#         name = mdcwName[num[0]]\n",
    "#         nameArr.append(name)\n",
    "#         print(str(j) + \" complete\")\n",
    "#         j+=1\n",
    "                \n",
    "#     hdu = fits.open('/home/alex/Downloads/moo/'+mdcwName[j])\n",
    "#     header = hdu[0].header\n",
    "#     obsRA = header.get('OBSRA')\n",
    "#     obsDec = header.get('OBSDEC')\n",
    "    \n",
    "#     done = False\n",
    "#     sep = .8\n",
    "#     while(done == False):\n",
    "#         i = 0\n",
    "#         num = []\n",
    "#         while i < len(mdcwName):\n",
    "#             if(mdcwRA[i] < obsRA+sep and mdcwRA[i] > obsRA-sep and mdcwDec[i] < obsDec+sep and mdcwDec[i] > obsDec-sep):\n",
    "#                 num.append(i)\n",
    "#             i+=1\n",
    "#         if(len(num) == 1):\n",
    "#             done = Truepickle.dump(favorite_color, open(path+\"save.pickle\",\"wb\"))\n",
    "#         elif(len(num) == 0):\n",
    "#             sep +=.005\n",
    "#         else:\n",
    "#             sep -=.005\n",
    "    \n",
    "#     name = mdcwName[num[0]]\n",
    "#     nameArr.append(name)\n",
    "#     print(str(j) + \" complete\")\n",
    "#     j+=1"
   ]
  },
  {
   "cell_type": "code",
   "execution_count": null,
   "metadata": {},
   "outputs": [],
   "source": []
  },
  {
   "cell_type": "code",
   "execution_count": null,
   "metadata": {},
   "outputs": [],
   "source": [
    "#old attempt at pickle\n",
    "# cutout = fits.open('/home/alex/Downloads/moo/'+mdcwName[i])\n",
    "# vmap = cutout[0].data[0][0]\n",
    "# #Convert from Jy/beam to Jy/pixel\n",
    "# conv_factor = (np.pi*(2.5/2)**2/np.log(2))\n",
    "# vmap = (vmap/conv_factor)\n",
    "# cent_em = central_emission(vmap.data, int(100), pixel_size.to(u.arcmin).value, 1.0)\n",
    "# toBePickled = {nameArr[i]: np.sum(cent_em)}\n",
    "# pickle.dump(toBePickled,open(path+\"save.p\",\"wb\"))"
   ]
  },
  {
   "cell_type": "code",
   "execution_count": null,
   "metadata": {},
   "outputs": [],
   "source": []
  },
  {
   "cell_type": "code",
   "execution_count": null,
   "metadata": {},
   "outputs": [],
   "source": []
  }
 ],
 "metadata": {
  "kernelspec": {
   "display_name": "Python 3",
   "language": "python",
   "name": "python3"
  },
  "language_info": {
   "codemirror_mode": {
    "name": "ipython",
    "version": 3
   },
   "file_extension": ".py",
   "mimetype": "text/x-python",
   "name": "python",
   "nbconvert_exporter": "python",
   "pygments_lexer": "ipython3",
   "version": "3.8.5"
  }
 },
 "nbformat": 4,
 "nbformat_minor": 4
}
