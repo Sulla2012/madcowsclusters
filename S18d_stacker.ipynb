{
 "cells": [
  {
   "cell_type": "code",
   "execution_count": 1,
   "metadata": {},
   "outputs": [
    {
     "ename": "RuntimeError",
     "evalue": "module compiled against API version 0xc but this version of numpy is 0xb",
     "output_type": "error",
     "traceback": [
      "\u001b[0;31m---------------------------------------------------------------------------\u001b[0m",
      "\u001b[0;31mRuntimeError\u001b[0m                              Traceback (most recent call last)",
      "\u001b[0;31mRuntimeError\u001b[0m: module compiled against API version 0xc but this version of numpy is 0xb"
     ]
    },
    {
     "ename": "RuntimeError",
     "evalue": "module compiled against API version 0xc but this version of numpy is 0xb",
     "output_type": "error",
     "traceback": [
      "\u001b[0;31m---------------------------------------------------------------------------\u001b[0m",
      "\u001b[0;31mRuntimeError\u001b[0m                              Traceback (most recent call last)",
      "\u001b[0;31mRuntimeError\u001b[0m: module compiled against API version 0xc but this version of numpy is 0xb"
     ]
    }
   ],
   "source": [
    "from __future__ import print_function\n",
    "from pixell import enmap,utils, reproject, enplot\n",
    "import numpy as np\n",
    "import matplotlib.pyplot as plt\n",
    "import os,sys\n",
    "import urllib.request\n",
    "from astropy.table import QTable\n",
    "import astropy.units as u\n",
    "from astropy.io import fits\n",
    "import csv\n",
    "import yaml\n",
    "%matplotlib inline"
   ]
  },
  {
   "cell_type": "code",
   "execution_count": 14,
   "metadata": {},
   "outputs": [
    {
     "data": {
      "text/plain": [
       "{'RADecSection': [93.36666666666623,\n",
       "  110.86666666666623,\n",
       "  -60.04166666666643,\n",
       "  -54.71166666666643],\n",
       " 'tileName': '1_0_0'}"
      ]
     },
     "execution_count": 14,
     "metadata": {},
     "output_type": "execute_result"
    }
   ],
   "source": [
    "with open('/scratch/r/rbond/jorlo/S18d_202006/selFn/tileDefinitions.yml') as f:\n",
    "    \n",
    "    data = yaml.load(f)\n",
    "\n",
    "data[0]"
   ]
  },
  {
   "cell_type": "code",
   "execution_count": 21,
   "metadata": {},
   "outputs": [],
   "source": [
    "def tileFinder(ra, dec, data):\n",
    "    #Given an RA and Dec in deg, find the S18d tile containing that RA and Dec\n",
    "    for i, tile in enumerate(data):\n",
    "        box = tile['RADecSection']\n",
    "        if box[0]<=ra<=box[1] and box[2]<=dec<= box[3]:\n",
    "            return tile['tileName']\n",
    "\n",
    "        "
   ]
  },
  {
   "cell_type": "code",
   "execution_count": 22,
   "metadata": {},
   "outputs": [
    {
     "data": {
      "text/plain": [
       "'1_0_0'"
      ]
     },
     "execution_count": 22,
     "metadata": {},
     "output_type": "execute_result"
    }
   ],
   "source": []
  },
  {
   "cell_type": "code",
   "execution_count": 36,
   "metadata": {},
   "outputs": [],
   "source": [
    "def s18dStamp(ra, dec, data, name, width = 0.5):\n",
    "    #Find tile corresponding to RA, Dec\n",
    "    path = '/scratch/r/rbond/jorlo/S18d_202006/filteredMaps/'\n",
    "    tileName = tileFinder(ra, dec, data)\n",
    "    tile = enmap.read_map(path+tileName+'/Arnaud_M2e14_z0p4#'+tileName+'_filteredMap.fits')\n",
    "    \n",
    "    #Stamp tile at position\n",
    "    ra, dec = np.deg2rad([ra,dec])\n",
    "    width = np.deg2rad(width)\n",
    "    box = [[dec-width/2.,ra-width/2.],[dec+width/2.,ra+width/2.]]\n",
    "    stamp = tile.submap(box)\n",
    "    \n",
    "    plt.imshow(stamp)\n",
    "    plt.show()\n",
    "    #Return map\n",
    "    enmap.write_map('./for_tony/{}.fits'.format(name), stamp)\n",
    "    return\n"
   ]
  },
  {
   "cell_type": "code",
   "execution_count": 37,
   "metadata": {},
   "outputs": [
    {
     "data": {
      "image/png": "[encoded data removed]",
      "text/plain": [
       "<matplotlib.figure.Figure at 0x2b45081e2390>"
      ]
     },
     "metadata": {},
     "output_type": "display_data"
    }
   ],
   "source": [
    "s18dStamp(303.1103611788376,-56.83093699573238, data, 'ACT-CL_J2012.4-5649')"
   ]
  },
  {
   "cell_type": "code",
   "execution_count": null,
   "metadata": {},
   "outputs": [],
   "source": []
  }
 ],
 "metadata": {
  "kernelspec": {
   "display_name": "Python 3",
   "language": "python",
   "name": "python3"
  },
  "language_info": {
   "codemirror_mode": {
    "name": "ipython",
    "version": 3
   },
   "file_extension": ".py",
   "mimetype": "text/x-python",
   "name": "python",
   "nbconvert_exporter": "python",
   "pygments_lexer": "ipython3",
   "version": "3.6.4"
  }
 },
 "nbformat": 4,
 "nbformat_minor": 2
}
