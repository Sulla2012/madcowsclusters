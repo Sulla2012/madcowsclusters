{
 "cells": [
  {
   "cell_type": "code",
   "execution_count": 1,
   "metadata": {},
   "outputs": [],
   "source": [
    "from __future__ import print_function\n",
    "from pixell import enmap,utils, reproject, enplot\n",
    "import numpy as np\n",
    "import matplotlib.pyplot as plt\n",
    "import matplotlib as mpl\n",
    "import os,sys\n",
    "import urllib.request\n",
    "from scipy import interpolate\n",
    "from astropy.table import QTable\n",
    "import astropy.units as u\n",
    "from astropy.io import fits\n",
    "import csv\n",
    "import yaml\n",
    "from scipy.stats import norm\n",
    "import matplotlib.patheffects as path_effects\n",
    "import pickle as pk\n",
    "from matplotlib.ticker import Locator\n",
    "%matplotlib inline"
   ]
  },
  {
   "cell_type": "code",
   "execution_count": 2,
   "metadata": {},
   "outputs": [],
   "source": [
    "forced_phot_catalog = fits.open('/gpfs/fs0/project/r/rbond/jorlo/cluster_catalogs/MADCOWSUnion_M500.fits')\n",
    "mdcw_catalog = fits.open('/home/s/sievers/sdicker/ACTnCOWs/MADCOWSUnion.fits')\n",
    "\n",
    "#Rescale to account for miscentering\n",
    "rescale = 1.25\n",
    "\n",
    "names = forced_phot_catalog[1].data['name']\n",
    "yc = forced_phot_catalog[1].data['y_c']\n",
    "yc_err =forced_phot_catalog[1].data['err_y_c']\n",
    "\n",
    "mdcw_names = mdcw_catalog[1].data['name']\n",
    "mdcw_rich = mdcw_catalog[1].data['rich']\n",
    "mdcw_rich_err = mdcw_catalog[1].data['e_rich']\n",
    "\n",
    "rich = []\n",
    "rich_err = []\n",
    "\n",
    "point_sources = ['MOO J0015+0801', 'MOO J0208-2951', 'MOO J0306+0857', 'MOO J0917+1456', 'MOO J0936+0336', 'MOO J1355-0114', 'MOO J2247+0507', 'MOO J1247+1426']\n",
    "\n",
    "for i in range(len(names)):\n",
    "    #if names[i] in point_sources:\n",
    "    #    print('Skip')\n",
    "    #    continue\n",
    "    idx = np.where((names[i] == mdcw_names))[0]\n",
    "    rich.append(int(mdcw_rich[idx]))\n",
    "    rich_err.append(int(mdcw_rich_err[idx]))\n",
    "\n",
    "\n",
    "flag = np.where((np.array(rich) != 999999) & (np.array(rich) != 0))[0]\n",
    "yc, yc_err, rich, rich_err = np.array(yc)[flag], np.array(yc_err)[flag], np.array(rich)[flag], np.array(rich_err)[flag]\n",
    "#flag = np.where((np.abs(yc_err)<1))[0]\n",
    "#yc, yc_err, rich, rich_err = np.array(yc)[flag], np.array(yc_err)[flag], np.array(rich)[flag], np.array(rich_err)[flag]\n",
    "\n"
   ]
  },
  {
   "cell_type": "code",
   "execution_count": 4,
   "metadata": {},
   "outputs": [
    {
     "data": {
      "image/png": "[encoded data removed]",
      "text/plain": [
       "<Figure size 432x288 with 1 Axes>"
      ]
     },
     "metadata": {
      "needs_background": "light"
     },
     "output_type": "display_data"
    }
   ],
   "source": [
    "plt.errorbar(rich, yc, xerr=rich_err, yerr = yc_err, fmt = 'o', linestyle = 'none')\n",
    "#plt.scatter(rich, yc_err)\n",
    "plt.ylim(-1.5,3)\n",
    "plt.show()"
   ]
  },
  {
   "cell_type": "code",
   "execution_count": 26,
   "metadata": {},
   "outputs": [],
   "source": [
    "yc, yc_err = yc*rescale, yc_err*rescale"
   ]
  },
  {
   "cell_type": "code",
   "execution_count": 70,
   "metadata": {},
   "outputs": [],
   "source": [
    "catalog = {'yc' : [], 'yc_err' : []}\n",
    "\n",
    "yc, yc_err = yc*rescale, yc_err*rescale\n",
    "\n",
    "num_boot = 1000\n",
    "\n",
    "for i in range(num_boot):\n",
    "    bin_yc = []\n",
    "    bin_yc_err = []\n",
    "    for j in range(20,70, 10):\n",
    "\n",
    "        flag = np.where((rich>j) & (rich<=j+10))[0]\n",
    "        if len(flag) == 0: continue\n",
    "\n",
    "        yc_temp, yc_err_temp = yc[flag], yc_err[flag]\n",
    "        \n",
    "        flags = np.random.randint(len(yc_temp), size = len(yc_temp))\n",
    "        \n",
    "        yc_temp2, yc_err_temp2 = yc_temp[flags], yc_err_temp[flags]\n",
    "\n",
    "        denominator = 0\n",
    "        for i in range(len(yc_err_temp)):\n",
    "            denominator += 1/yc_err_temp[i]\n",
    "\n",
    "        numerator = 0\n",
    "        for i in range(len(yc_temp2)):\n",
    "            numerator += (yc_temp2[i]-np.average(yc_temp2))**2\n",
    "\n",
    "        bin_yc.append(np.average(yc_temp2))\n",
    "        bin_yc_err.append(np.sqrt(numerator)/len(yc_temp2))\n",
    "\n",
    "    catalog['yc'].append(bin_yc)\n",
    "    catalog['yc_err'].append(bin_yc_err)"
   ]
  },
  {
   "cell_type": "code",
   "execution_count": 71,
   "metadata": {},
   "outputs": [
    {
     "data": {
      "image/png": "[encoded data removed]",
      "text/plain": [
       "<Figure size 432x288 with 1 Axes>"
      ]
     },
     "metadata": {
      "needs_background": "light"
     },
     "output_type": "display_data"
    }
   ],
   "source": [
    "xrange = range(25,75,10)\n",
    "plt.errorbar(xrange, np.average(catalog['yc'], axis = 0), np.std(catalog['yc'], axis = 0), fmt = 'D', linestyle = 'none')\n",
    "#plt.plot(xrange,bin_yc)\n",
    "plt.xlabel('$\\lambda_{15}$')\n",
    "plt.ylabel(r'$\\tilde{y}_0 (10^{-4})$')\n",
    "plt.title('Central Comptonization in Bins of Richness')\n",
    "plt.savefig('./plots/forced_photometry/mdcw_bin_forced_photometry.pdf')\n",
    "plt.savefig('./plots/forced_photometry/mdcw_bin_forced_photometry.png', dpi = 300)\n",
    "plt.show()\n",
    "plt.close()"
   ]
  },
  {
   "cell_type": "code",
   "execution_count": 57,
   "metadata": {},
   "outputs": [
    {
     "data": {
      "image/png": "[encoded data removed]",
      "text/plain": [
       "<Figure size 432x288 with 1 Axes>"
      ]
     },
     "metadata": {
      "needs_background": "light"
     },
     "output_type": "display_data"
    }
   ],
   "source": [
    "numBins=8\n",
    "log10Rich=np.log10(rich)\n",
    "binEdges=np.linspace(log10Rich.min(), log10Rich.max(), numBins+1)\n",
    "binCenters=(binEdges[1:]+binEdges[:-1])/2.\n",
    "mean_y=np.zeros(len(binCenters))\n",
    "err_y=np.zeros(len(binCenters))\n",
    "\n",
    "num_boot = 1000\n",
    "\n",
    "for i in range(len(binCenters)):\n",
    "    binMin=binEdges[i]\n",
    "    binMax=binEdges[i+1]\n",
    "    mask=np.logical_and(log10Rich >= binMin, log10Rich < binMax)\n",
    "    yvals=yc[mask]*rescale\n",
    "    mean_y[i]=np.mean(yvals)\n",
    "    bsMeans=[]\n",
    "    for j in range(num_boot):\n",
    "        bsIndices=np.random.randint(0, len(yvals), len(yvals))\n",
    "        bsMeans.append(np.mean(yvals[bsIndices]))\n",
    "    err_y[i]=np.std(bsMeans)\n",
    "\n",
    "plt.xscale('log')\n",
    "plt.yscale('log')\n",
    "plt.errorbar(np.power(10, binCenters), mean_y, yerr = err_y,fmt = 'D')\n",
    "plt.savefig('./plots/forced_photometry/log_mdcw_bin_forced_photometry_no_ps.pdf')\n",
    "plt.savefig('./plots/forced_photometry/log_mdcw_bin_forced_photometry_no_ps.png', dpi = 300)\n",
    "plt.show()"
   ]
  },
  {
   "cell_type": "code",
   "execution_count": 9,
   "metadata": {},
   "outputs": [
    {
     "data": {
      "text/plain": [
       "(array([  5.,  34., 715., 621.,  87.,  28.,  13.,   3.,   2.,   1.]),\n",
       " array([-6.6931335 , -4.37716998, -2.06120647,  0.25475705,  2.57072057,\n",
       "         4.88668409,  7.2026476 ,  9.51861112, 11.83457464, 14.15053815,\n",
       "        16.46650167]),\n",
       " <a list of 10 Patch objects>)"
      ]
     },
     "execution_count": 9,
     "metadata": {},
     "output_type": "execute_result"
    },
    {
     "data": {
      "image/png": "[encoded data removed]",
      "text/plain": [
       "<Figure size 432x288 with 1 Axes>"
      ]
     },
     "metadata": {
      "needs_background": "light"
     },
     "output_type": "display_data"
    }
   ],
   "source": [
    "forced_phot_catalog = fits.open('/gpfs/fs0/project/r/rbond/jorlo/cluster_catalogs/MADCOWSUnion_M500.fits')\n",
    "mdcw_catalog = fits.open('/home/s/sievers/sdicker/ACTnCOWs/MADCOWSUnion.fits')\n",
    "\n",
    "names = forced_phot_catalog[1].data['name']\n",
    "yc = forced_phot_catalog[1].data['y_c']\n",
    "yc_err =forced_phot_catalog[1].data['err_y_c']\n",
    "\n",
    "m500 = forced_phot_catalog[1].data['M500']\n",
    "m500Plus = forced_phot_catalog[1].data['M500_errPlus']\n",
    "m500Minus = forced_phot_catalog[1].data['M500_errMinus']\n",
    "\n",
    "snr = forced_phot_catalog[1].data['SNR']\n",
    "\n",
    "plt.hist(snr)"
   ]
  },
  {
   "cell_type": "code",
   "execution_count": 10,
   "metadata": {},
   "outputs": [
    {
     "name": "stdout",
     "output_type": "stream",
     "text": [
      "35\n"
     ]
    }
   ],
   "source": [
    "snr_cut = snr[3<snr]\n",
    "snr_cut = snr_cut[4>snr_cut]\n",
    "print(len(snr_cut))"
   ]
  },
  {
   "cell_type": "code",
   "execution_count": 12,
   "metadata": {},
   "outputs": [
    {
     "name": "stdout",
     "output_type": "stream",
     "text": [
      "MOO J2207+0757\n",
      "M500 = 0.27 + 0.19 - 0.11\n",
      "SNR = 0.87\n"
     ]
    }
   ],
   "source": [
    "#for i in range(750, 775):\n",
    "#    print(names[i])\n",
    "#    print('M500 = {:.2f} + {:.2f} - {:.2f}'.format(m500[i], m500Plus[i], m500Minus[i]))\n",
    "    \n",
    "#flag = np.where((str(names) == 'MOO J1345-0125'))\n",
    "#print(flag)\n",
    "\n",
    "#sched_A = ['MOO J1330+2157', 'MOO J1001+6619', 'MOO J1139-1706', 'MOO J1346-0142', 'MOO J1554-0447', 'MOO J1337+3529', 'MOO J1514+1346', 'MOO J2216+1738', 'MOO J1635+2452']\n",
    "\n",
    "for i in range(len(names)):\n",
    "    if names[i] == 'MOO J2207+0757':\n",
    "    #if names[i] in sched_A:\n",
    "        print(names[i])\n",
    "        print('M500 = {:.2f} + {:.2f} - {:.2f}'.format(m500[i], m500Plus[i], m500Minus[i]))\n",
    "        print('SNR = {:.2f}'.format(snr[i]))"
   ]
  },
  {
   "cell_type": "code",
   "execution_count": 3,
   "metadata": {},
   "outputs": [],
   "source": [
    "forced_90 = fits.open('/home/r/rbond/jorlo/dev/madcowsclusters/S18d_202006_forcedMaDCoWS_f090Only_optimalCatalog.fits')\n",
    "forced_150 = fits.open('/home/r/rbond/jorlo/dev/madcowsclusters/S18d_202006_forcedMaDCoWS_f150Only_optimalCatalog.fits')\n",
    "\n",
    "mdcw_catalog = fits.open('/home/s/sievers/sdicker/ACTnCOWs/MADCOWSUnion.fits')\n"
   ]
  },
  {
   "cell_type": "code",
   "execution_count": 27,
   "metadata": {},
   "outputs": [
    {
     "name": "stdout",
     "output_type": "stream",
     "text": [
      "XTENSION= 'BINTABLE'           / binary table extension                         BITPIX  =                    8 / array data type                                NAXIS   =                    2 / number of array dimensions                     NAXIS1  =                  151 / length of dimension 1                          NAXIS2  =                 1508 / length of dimension 2                          PCOUNT  =                    0 / number of group parameters                     GCOUNT  =                    1 / number of groups                               TFIELDS =                   18 / number of table fields                         TTYPE1  = 'name    '                                                            TFORM1  = '14A     '                                                            TTYPE2  = 'RADeg   '                                                            TFORM2  = 'D       '                                                            TTYPE3  = 'decDeg  '                                                            TFORM3  = 'D       '                                                            TTYPE4  = 'SNR     '                                                            TFORM4  = 'D       '                                                            TTYPE5  = 'numSigPix'                                                           TFORM5  = 'K       '                                                            TTYPE6  = 'template'                                                            TFORM6  = '17A     '                                                            TTYPE7  = 'tileName'                                                            TFORM7  = '7A      '                                                            TTYPE8  = 'galacticLatDeg'                                                      TFORM8  = 'D       '                                                            TTYPE9  = 'fixed_SNR'                                                           TFORM9  = 'D       '                                                            TTYPE10 = 'deltaT_c'                                                            TFORM10 = 'D       '                                                            TTYPE11 = 'err_deltaT_c'                                                        TFORM11 = 'D       '                                                            TTYPE12 = 'y_c     '                                                            TFORM12 = 'D       '                                                            TTYPE13 = 'err_y_c '                                                            TFORM13 = 'D       '                                                            TTYPE14 = 'fixed_deltaT_c'                                                      TFORM14 = 'D       '                                                            TTYPE15 = 'fixed_err_deltaT_c'                                                  TFORM15 = 'D       '                                                            TTYPE16 = 'fixed_y_c'                                                           TFORM16 = 'D       '                                                            TTYPE17 = 'fixed_err_y_c'                                                       TFORM17 = 'D       '                                                            TTYPE18 = 'tileBoundarySplit'                                                   TFORM18 = 'L       '                                                            END                                                                                                                                                                                                                                                                                                                                                                                                                                                                                                                                                                                                                                                                                                                                                                                                                                                                                                                                                                                                                                                                                                                                                                                                                                                                                                                                                                                                                                                                                                                                                                                                                                                                                                                                                                                                                                                                                                                                                                                                                                                                                                                                                                                                                                                                                                                             \n",
      "1.0\n",
      "1.0\n",
      "-0.6575757702913038\n"
     ]
    }
   ],
   "source": [
    "print(forced_90[1].header)\n",
    "i = 100\n",
    "print(forced_90[1].data[i]['fixed_y_c']/forced_90[1].data[i]['y_c     '])\n",
    "#print(forced_150[1].header)\n",
    "print(forced_150[1].data[i]['fixed_y_c']/forced_150[1].data[i]['y_c     '])\n",
    "\n",
    "print(forced_150[1].data[i]['fixed_y_c']/forced_90[1].data[i]['fixed_y_c'])"
   ]
  },
  {
   "cell_type": "code",
   "execution_count": 36,
   "metadata": {},
   "outputs": [],
   "source": [
    "forced_phot_catalog = fits.open('MADCOWSUnion_mass_v1.0.fits')\n",
    "mdcw_catalog = fits.open('/home/s/sievers/sdicker/ACTnCOWs/MADCOWSUnion.fits')\n",
    "\n",
    "forced_names = forced_phot_catalog[1].data['name']\n",
    "forced_masses = forced_phot_catalog[1].data['M500cUncorr']\n",
    "mdcw_names = mdcw_catalog[1].data['name']\n",
    "mdcw_rich = mdcw_catalog[1].data['rich']"
   ]
  },
  {
   "cell_type": "code",
   "execution_count": 37,
   "metadata": {},
   "outputs": [],
   "source": [
    "flags = np.where((mdcw_rich>20) & (mdcw_rich<1000))[0]"
   ]
  },
  {
   "cell_type": "code",
   "execution_count": 38,
   "metadata": {},
   "outputs": [
    {
     "name": "stdout",
     "output_type": "stream",
     "text": [
      "1489\n"
     ]
    }
   ],
   "source": [
    "print(len(flags))"
   ]
  },
  {
   "cell_type": "code",
   "execution_count": 39,
   "metadata": {},
   "outputs": [],
   "source": [
    "names = mdcw_names[flags]"
   ]
  },
  {
   "cell_type": "code",
   "execution_count": 40,
   "metadata": {},
   "outputs": [
    {
     "name": "stdout",
     "output_type": "stream",
     "text": [
      "XTENSION= 'BINTABLE'           / binary table extension                         BITPIX  =                    8 / array data type                                NAXIS   =                    2 / number of array dimensions                     NAXIS1  =                  286 / length of dimension 1                          NAXIS2  =                 1509 / length of dimension 2                          PCOUNT  =                    0 / number of group parameters                     GCOUNT  =                    1 / number of groups                               TFIELDS =                   34 / number of table fields                         TTYPE1  = 'name    '                                                            TFORM1  = '14A     '                                                            TTYPE2  = 'RADeg   '                                                            TFORM2  = 'D       '                                                            TTYPE3  = 'decDeg  '                                                            TFORM3  = 'D       '                                                            TTYPE4  = 'SNR     '                                                            TFORM4  = 'D       '                                                            TTYPE5  = 'numSigPix'                                                           TFORM5  = 'K       '                                                            TTYPE6  = 'template'                                                            TFORM6  = '17A     '                                                            TTYPE7  = 'tileName'                                                            TFORM7  = '7A      '                                                            TTYPE8  = 'galacticLatDeg'                                                      TFORM8  = 'D       '                                                            TTYPE9  = 'fixed_SNR'                                                           TFORM9  = 'D       '                                                            TTYPE10 = 'deltaT_c'                                                            TFORM10 = 'D       '                                                            TTYPE11 = 'err_deltaT_c'                                                        TFORM11 = 'D       '                                                            TTYPE12 = 'y_c     '                                                            TFORM12 = 'D       '                                                            TTYPE13 = 'err_y_c '                                                            TFORM13 = 'D       '                                                            TTYPE14 = 'fixed_deltaT_c'                                                      TFORM14 = 'D       '                                                            TTYPE15 = 'fixed_err_deltaT_c'                                                  TFORM15 = 'D       '                                                            TTYPE16 = 'fixed_y_c'                                                           TFORM16 = 'D       '                                                            TTYPE17 = 'fixed_err_y_c'                                                       TFORM17 = 'D       '                                                            TTYPE18 = 'redshift'                                                            TFORM18 = 'D       '                                                            TDISP18 = 'F5.2    '                                                            TTYPE19 = 'redshiftErr'                                                         TFORM19 = 'D       '                                                            TTYPE20 = 'M500c   '                                                            TFORM20 = 'D       '                                                            TTYPE21 = 'M500c_errPlus'                                                       TFORM21 = 'D       '                                                            TTYPE22 = 'M500c_errMinus'                                                      TFORM22 = 'D       '                                                            TTYPE23 = 'M500cUncorr'                                                         TFORM23 = 'D       '                                                            TTYPE24 = 'M500cUncorr_errPlus'                                                 TFORM24 = 'D       '                                                            TTYPE25 = 'M500cUncorr_errMinus'                                                TFORM25 = 'D       '                                                            TTYPE26 = 'M500cCal'                                                            TFORM26 = 'D       '                                                            TTYPE27 = 'M500cCal_errPlus'                                                    TFORM27 = 'D       '                                                            TTYPE28 = 'M500cCal_errMinus'                                                   TFORM28 = 'D       '                                                            TTYPE29 = 'M200m   '                                                            TFORM29 = 'D       '                                                            TTYPE30 = 'M200m_errPlus'                                                       TFORM30 = 'D       '                                                            TTYPE31 = 'M200m_errMinus'                                                      TFORM31 = 'D       '                                                            TTYPE32 = 'M200mUncorr'                                                         TFORM32 = 'D       '                                                            TTYPE33 = 'M200mUncorr_errPlus'                                                 TFORM33 = 'D       '                                                            TTYPE34 = 'M200mUncorr_errMinus'                                                TFORM34 = 'D       '                                                            NEMOVER = '0.4.0b3+30.ge7ff26d'                                                 END                                                                                                                                                                                                                                                                                                                                                                                                                                                                                                                                                                                                                                                                                                                                                                                                                                                                                                                                                                                                                                                                                                                                                                                                                                                                                                                                                                                                                                                                                                                                                                                                                                                                                                                                                                                                                                                                                                                                                                                                                                                                                                                                                                                                                                                                                                                                                                                                                                                                                             \n"
     ]
    }
   ],
   "source": [
    "print(forced_phot_catalog[1].header)"
   ]
  },
  {
   "cell_type": "code",
   "execution_count": 47,
   "metadata": {},
   "outputs": [],
   "source": [
    "masses = []\n",
    "for i, name in enumerate(forced_names):\n",
    "    if name in names and forced_masses[i]>0:\n",
    "        masses.append(forced_masses[i]*1.25)"
   ]
  },
  {
   "cell_type": "code",
   "execution_count": 48,
   "metadata": {},
   "outputs": [
    {
     "name": "stdout",
     "output_type": "stream",
     "text": [
      "1.4709964696711029\n"
     ]
    }
   ],
   "source": [
    "print(np.mean(masses))"
   ]
  },
  {
   "cell_type": "code",
   "execution_count": null,
   "metadata": {},
   "outputs": [],
   "source": []
  }
 ],
 "metadata": {
  "kernelspec": {
   "display_name": "actmadcows",
   "language": "python",
   "name": "actmadcows"
  },
  "language_info": {
   "codemirror_mode": {
    "name": "ipython",
    "version": 3
   },
   "file_extension": ".py",
   "mimetype": "text/x-python",
   "name": "python",
   "nbconvert_exporter": "python",
   "pygments_lexer": "ipython3",
   "version": "3.6.5"
  }
 },
 "nbformat": 4,
 "nbformat_minor": 2
}
