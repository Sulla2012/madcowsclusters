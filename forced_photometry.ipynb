{
 "cells": [
  {
   "cell_type": "code",
   "execution_count": 1,
   "metadata": {},
   "outputs": [],
   "source": [
    "from __future__ import print_function\n",
    "from pixell import enmap,utils, reproject, enplot\n",
    "import numpy as np\n",
    "import matplotlib.pyplot as plt\n",
    "import matplotlib as mpl\n",
    "import os,sys\n",
    "import urllib.request\n",
    "from scipy import interpolate\n",
    "from astropy.table import QTable\n",
    "import astropy.units as u\n",
    "from astropy.io import fits\n",
    "import csv\n",
    "import yaml\n",
    "from scipy.stats import norm\n",
    "import matplotlib.patheffects as path_effects\n",
    "import pickle as pk\n",
    "from matplotlib.ticker import Locator\n",
    "%matplotlib inline"
   ]
  },
  {
   "cell_type": "code",
   "execution_count": 60,
   "metadata": {},
   "outputs": [],
   "source": [
    "forced_phot_catalog = fits.open('/gpfs/fs0/project/r/rbond/jorlo/cluster_catalogs/MADCOWSUnion_M500.fits')\n",
    "mdcw_catalog = fits.open('/home/s/sievers/sdicker/ACTnCOWs/MADCOWSUnion.fits')\n",
    "\n",
    "\n",
    "names = forced_phot_catalog[1].data['name']\n",
    "yc = forced_phot_catalog[1].data['y_c']\n",
    "yc_err =forced_phot_catalog[1].data['err_y_c']\n",
    "\n",
    "mdcw_names = mdcw_catalog[1].data['name']\n",
    "mdcw_rich = mdcw_catalog[1].data['rich']\n",
    "mdcw_rich_err = mdcw_catalog[1].data['e_rich']\n",
    "\n",
    "rich = []\n",
    "rich_err = []\n",
    "\n",
    "for i in range(len(names)):\n",
    "    idx = np.where((names[i] == mdcw_names))[0]\n",
    "    rich.append(int(mdcw_rich[idx]))\n",
    "    rich_err.append(int(mdcw_rich_err[idx]))\n",
    "\n",
    "\n",
    "flag = np.where((np.array(rich) != 999999) & (np.array(rich) != 0))[0]\n",
    "yc, yc_err, rich, rich_err = np.array(yc)[flag], np.array(yc_err)[flag], np.array(rich)[flag], np.array(rich_err)[flag]\n",
    "flag = np.where((np.abs(yc_err)<1))[0]\n",
    "yc, yc_err, rich, rich_err = np.array(yc)[flag], np.array(yc_err)[flag], np.array(rich)[flag], np.array(rich_err)[flag]\n"
   ]
  },
  {
   "cell_type": "code",
   "execution_count": 64,
   "metadata": {},
   "outputs": [
    {
     "data": {
      "image/png": "[encoded data removed]",
      "text/plain": [
       "<Figure size 432x288 with 1 Axes>"
      ]
     },
     "metadata": {
      "needs_background": "light"
     },
     "output_type": "display_data"
    }
   ],
   "source": [
    "plt.errorbar(rich, yc, xerr=rich_err, yerr = yc_err, fmt = 'o', linestyle = 'none')\n",
    "#plt.scatter(rich, yc_err)\n",
    "plt.ylim(-1.5,3)\n",
    "plt.show()"
   ]
  },
  {
   "cell_type": "code",
   "execution_count": 54,
   "metadata": {},
   "outputs": [
    {
     "name": "stdout",
     "output_type": "stream",
     "text": [
      "2.2531723079520027\n"
     ]
    }
   ],
   "source": [
    "print(max(yc))\n"
   ]
  },
  {
   "cell_type": "code",
   "execution_count": null,
   "metadata": {},
   "outputs": [],
   "source": []
  }
 ],
 "metadata": {
  "kernelspec": {
   "display_name": "actmadcows",
   "language": "python",
   "name": "actmadcows"
  },
  "language_info": {
   "codemirror_mode": {
    "name": "ipython",
    "version": 3
   },
   "file_extension": ".py",
   "mimetype": "text/x-python",
   "name": "python",
   "nbconvert_exporter": "python",
   "pygments_lexer": "ipython3",
   "version": "3.6.5"
  }
 },
 "nbformat": 4,
 "nbformat_minor": 2
}
